{
 "cells": [
  {
   "cell_type": "markdown",
   "metadata": {},
   "source": [
    "<h1>Rede Neural Artificial #00</h1>"
   ]
  },
  {
   "cell_type": "code",
   "execution_count": 55,
   "metadata": {},
   "outputs": [],
   "source": [
    "import warnings\n",
    "warnings.filterwarnings('ignore')\n",
    "import keras\n",
    "from keras.datasets import mnist"
   ]
  },
  {
   "cell_type": "code",
   "execution_count": 56,
   "metadata": {},
   "outputs": [],
   "source": [
    "(x_treino, y_treino),(x_teste, y_teste) = mnist.load_data()"
   ]
  },
  {
   "cell_type": "code",
   "execution_count": 57,
   "metadata": {},
   "outputs": [
    {
     "data": {
      "text/plain": [
       "array([5, 0, 4, ..., 5, 6, 8], dtype=uint8)"
      ]
     },
     "execution_count": 57,
     "metadata": {},
     "output_type": "execute_result"
    }
   ],
   "source": [
    "y_treino"
   ]
  },
  {
   "cell_type": "code",
   "execution_count": 58,
   "metadata": {},
   "outputs": [],
   "source": [
    "from keras.utils import np_utils"
   ]
  },
  {
   "cell_type": "code",
   "execution_count": 59,
   "metadata": {},
   "outputs": [],
   "source": [
    "y_treino_convertido = np_utils.to_categorical(y_treino)\n",
    "y_teste_convertido = np_utils.to_categorical(y_teste)"
   ]
  },
  {
   "cell_type": "code",
   "execution_count": 60,
   "metadata": {},
   "outputs": [
    {
     "data": {
      "text/plain": [
       "array([[0., 0., 0., ..., 0., 0., 0.],\n",
       "       [1., 0., 0., ..., 0., 0., 0.],\n",
       "       [0., 0., 0., ..., 0., 0., 0.],\n",
       "       ...,\n",
       "       [0., 0., 0., ..., 0., 0., 0.],\n",
       "       [0., 0., 0., ..., 0., 0., 0.],\n",
       "       [0., 0., 0., ..., 0., 1., 0.]], dtype=float32)"
      ]
     },
     "execution_count": 60,
     "metadata": {},
     "output_type": "execute_result"
    }
   ],
   "source": [
    "y_treino_convertido #verificando se converteu corretamente"
   ]
  },
  {
   "cell_type": "code",
   "execution_count": 61,
   "metadata": {},
   "outputs": [
    {
     "data": {
      "text/plain": [
       "<matplotlib.image.AxesImage at 0x7fb57137fc50>"
      ]
     },
     "execution_count": 61,
     "metadata": {},
     "output_type": "execute_result"
    },
    {
     "data": {
      "image/png": "[encoded data removed]",
      "text/plain": [
       "<Figure size 432x288 with 1 Axes>"
      ]
     },
     "metadata": {
      "needs_background": "light"
     },
     "output_type": "display_data"
    }
   ],
   "source": [
    "import matplotlib.pyplot as plt\n",
    "plt.imshow(x_treino[0], cmap='gray') #imprimindo uma das amostras"
   ]
  },
  {
   "cell_type": "markdown",
   "metadata": {},
   "source": [
    "<b>Reshape: Colocando as imagens (amostras) no formato de única linha</b>"
   ]
  },
  {
   "cell_type": "code",
   "execution_count": 62,
   "metadata": {},
   "outputs": [],
   "source": [
    "x_treino_remodelado = x_treino.reshape((60000,784))\n",
    "x_teste_remodelado = x_teste.reshape((10000,784))"
   ]
  },
  {
   "cell_type": "code",
   "execution_count": 63,
   "metadata": {},
   "outputs": [
    {
     "data": {
      "text/plain": [
       "(60000, 784)"
      ]
     },
     "execution_count": 63,
     "metadata": {},
     "output_type": "execute_result"
    }
   ],
   "source": [
    "x_treino_remodelado.shape #testando se deu certo"
   ]
  },
  {
   "cell_type": "markdown",
   "metadata": {},
   "source": [
    "<b>Normalizando os dados (entre 0 e 1):</b>"
   ]
  },
  {
   "cell_type": "code",
   "execution_count": 64,
   "metadata": {},
   "outputs": [],
   "source": [
    "x_teste_normalizado = x_teste_remodelado.astype('float32')/255\n",
    "x_treino_normalizado = x_treino_remodelado.astype('float32')/255"
   ]
  },
  {
   "cell_type": "code",
   "execution_count": 65,
   "metadata": {},
   "outputs": [
    {
     "data": {
      "text/plain": [
       "array([[0., 0., 0., ..., 0., 0., 0.],\n",
       "       [0., 0., 0., ..., 0., 0., 0.],\n",
       "       [0., 0., 0., ..., 0., 0., 0.],\n",
       "       ...,\n",
       "       [0., 0., 0., ..., 0., 0., 0.],\n",
       "       [0., 0., 0., ..., 0., 0., 0.],\n",
       "       [0., 0., 0., ..., 0., 0., 0.]], dtype=float32)"
      ]
     },
     "execution_count": 65,
     "metadata": {},
     "output_type": "execute_result"
    }
   ],
   "source": [
    "x_teste_normalizado #verificando se due certo"
   ]
  },
  {
   "cell_type": "markdown",
   "metadata": {},
   "source": [
    "<h3>Criando a minha rede...</h3>"
   ]
  },
  {
   "cell_type": "code",
   "execution_count": 66,
   "metadata": {},
   "outputs": [],
   "source": [
    "from keras.models import Sequential\n",
    "from keras.layers import Dense, Activation"
   ]
  },
  {
   "cell_type": "code",
   "execution_count": 67,
   "metadata": {},
   "outputs": [],
   "source": [
    "modelo = Sequential()\n",
    "modelo.add(Dense(30, input_dim=784, kernel_initializer='normal', activation='relu')) #entrada e primeira camada\n",
    "modelo.add(Dense(30, kernel_initializer='normal', activation='relu')) #segunda camada\n",
    "modelo.add(Dense(10, kernel_initializer='normal', activation='softmax')) #saída"
   ]
  },
  {
   "cell_type": "code",
   "execution_count": 68,
   "metadata": {},
   "outputs": [],
   "source": [
    "from keras.optimizers import SGD"
   ]
  },
  {
   "cell_type": "code",
   "execution_count": 69,
   "metadata": {},
   "outputs": [],
   "source": [
    "otimizador = SGD()"
   ]
  },
  {
   "cell_type": "code",
   "execution_count": 70,
   "metadata": {},
   "outputs": [
    {
     "name": "stdout",
     "output_type": "stream",
     "text": [
      "Train on 60000 samples, validate on 10000 samples\n",
      "Epoch 1/200\n",
      "60000/60000 [==============================] - 2s 31us/step - loss: 2.2959 - acc: 0.1571 - val_loss: 2.2833 - val_acc: 0.2268\n",
      "Epoch 2/200\n",
      "60000/60000 [==============================] - 1s 18us/step - loss: 2.2101 - acc: 0.3232 - val_loss: 2.0288 - val_acc: 0.3207\n",
      "Epoch 3/200\n",
      "60000/60000 [==============================] - 1s 19us/step - loss: 1.6458 - acc: 0.4786 - val_loss: 1.2097 - val_acc: 0.6032\n",
      "Epoch 4/200\n",
      "60000/60000 [==============================] - 1s 18us/step - loss: 1.0076 - acc: 0.6890 - val_loss: 0.8231 - val_acc: 0.7509\n",
      "Epoch 5/200\n",
      "60000/60000 [==============================] - 1s 22us/step - loss: 0.7401 - acc: 0.7707 - val_loss: 0.6283 - val_acc: 0.8024\n",
      "Epoch 6/200\n",
      "60000/60000 [==============================] - 1s 19us/step - loss: 0.5878 - acc: 0.8244 - val_loss: 0.5176 - val_acc: 0.8447\n",
      "Epoch 7/200\n",
      "60000/60000 [==============================] - 1s 19us/step - loss: 0.4949 - acc: 0.8583 - val_loss: 0.4513 - val_acc: 0.8687\n",
      "Epoch 8/200\n",
      "60000/60000 [==============================] - 1s 20us/step - loss: 0.4402 - acc: 0.8751 - val_loss: 0.4128 - val_acc: 0.8811\n",
      "Epoch 9/200\n",
      "60000/60000 [==============================] - 1s 19us/step - loss: 0.4047 - acc: 0.8859 - val_loss: 0.3847 - val_acc: 0.8877\n",
      "Epoch 10/200\n",
      "60000/60000 [==============================] - 1s 21us/step - loss: 0.3803 - acc: 0.8916 - val_loss: 0.3640 - val_acc: 0.8930\n",
      "Epoch 11/200\n",
      "60000/60000 [==============================] - 1s 19us/step - loss: 0.3614 - acc: 0.8966 - val_loss: 0.3471 - val_acc: 0.8978\n",
      "Epoch 12/200\n",
      "60000/60000 [==============================] - 1s 19us/step - loss: 0.3470 - acc: 0.9011 - val_loss: 0.3355 - val_acc: 0.9007\n",
      "Epoch 13/200\n",
      "60000/60000 [==============================] - 1s 19us/step - loss: 0.3346 - acc: 0.9044 - val_loss: 0.3227 - val_acc: 0.9051\n",
      "Epoch 14/200\n",
      "60000/60000 [==============================] - 1s 19us/step - loss: 0.3238 - acc: 0.9070 - val_loss: 0.3162 - val_acc: 0.9077\n",
      "Epoch 15/200\n",
      "60000/60000 [==============================] - 1s 21us/step - loss: 0.3142 - acc: 0.9101 - val_loss: 0.3070 - val_acc: 0.9097\n",
      "Epoch 16/200\n",
      "60000/60000 [==============================] - 1s 20us/step - loss: 0.3056 - acc: 0.9125 - val_loss: 0.2991 - val_acc: 0.9111\n",
      "Epoch 17/200\n",
      "60000/60000 [==============================] - 1s 19us/step - loss: 0.2975 - acc: 0.9147 - val_loss: 0.2906 - val_acc: 0.9147\n",
      "Epoch 18/200\n",
      "60000/60000 [==============================] - 1s 19us/step - loss: 0.2902 - acc: 0.9171 - val_loss: 0.2858 - val_acc: 0.9161\n",
      "Epoch 19/200\n",
      "60000/60000 [==============================] - 1s 19us/step - loss: 0.2829 - acc: 0.9191 - val_loss: 0.2781 - val_acc: 0.9194\n",
      "Epoch 20/200\n",
      "60000/60000 [==============================] - 1s 22us/step - loss: 0.2762 - acc: 0.9208 - val_loss: 0.2716 - val_acc: 0.9215\n",
      "Epoch 21/200\n",
      "60000/60000 [==============================] - 1s 20us/step - loss: 0.2695 - acc: 0.9225 - val_loss: 0.2690 - val_acc: 0.9223\n",
      "Epoch 22/200\n",
      "60000/60000 [==============================] - 1s 19us/step - loss: 0.2631 - acc: 0.9245 - val_loss: 0.2619 - val_acc: 0.9239\n",
      "Epoch 23/200\n",
      "60000/60000 [==============================] - 1s 19us/step - loss: 0.2565 - acc: 0.9262 - val_loss: 0.2558 - val_acc: 0.9243\n",
      "Epoch 24/200\n",
      "60000/60000 [==============================] - 1s 19us/step - loss: 0.2500 - acc: 0.9281 - val_loss: 0.2499 - val_acc: 0.9277\n",
      "Epoch 25/200\n",
      "60000/60000 [==============================] - 1s 19us/step - loss: 0.2437 - acc: 0.9304 - val_loss: 0.2449 - val_acc: 0.9288\n",
      "Epoch 26/200\n",
      "60000/60000 [==============================] - 1s 20us/step - loss: 0.2373 - acc: 0.9318 - val_loss: 0.2392 - val_acc: 0.9304\n",
      "Epoch 27/200\n",
      "60000/60000 [==============================] - 1s 20us/step - loss: 0.2310 - acc: 0.9339 - val_loss: 0.2320 - val_acc: 0.9315\n",
      "Epoch 28/200\n",
      "60000/60000 [==============================] - 1s 19us/step - loss: 0.2246 - acc: 0.9354 - val_loss: 0.2295 - val_acc: 0.9322\n",
      "Epoch 29/200\n",
      "60000/60000 [==============================] - 1s 20us/step - loss: 0.2192 - acc: 0.9370 - val_loss: 0.2229 - val_acc: 0.9335\n",
      "Epoch 30/200\n",
      "60000/60000 [==============================] - 1s 19us/step - loss: 0.2132 - acc: 0.9387 - val_loss: 0.2181 - val_acc: 0.9366\n",
      "Epoch 31/200\n",
      "60000/60000 [==============================] - 1s 20us/step - loss: 0.2080 - acc: 0.9408 - val_loss: 0.2135 - val_acc: 0.9369\n",
      "Epoch 32/200\n",
      "60000/60000 [==============================] - 1s 20us/step - loss: 0.2027 - acc: 0.9425 - val_loss: 0.2073 - val_acc: 0.9391\n",
      "Epoch 33/200\n",
      "60000/60000 [==============================] - 1s 20us/step - loss: 0.1976 - acc: 0.9434 - val_loss: 0.2033 - val_acc: 0.9395\n",
      "Epoch 34/200\n",
      "60000/60000 [==============================] - 1s 19us/step - loss: 0.1929 - acc: 0.9453 - val_loss: 0.1999 - val_acc: 0.9407\n",
      "Epoch 35/200\n",
      "60000/60000 [==============================] - 2s 30us/step - loss: 0.1885 - acc: 0.9462 - val_loss: 0.1959 - val_acc: 0.9417\n",
      "Epoch 36/200\n",
      "60000/60000 [==============================] - 1s 22us/step - loss: 0.1842 - acc: 0.9476 - val_loss: 0.1923 - val_acc: 0.9429\n",
      "Epoch 37/200\n",
      "60000/60000 [==============================] - 1s 20us/step - loss: 0.1800 - acc: 0.9485 - val_loss: 0.1894 - val_acc: 0.9432\n",
      "Epoch 38/200\n",
      "60000/60000 [==============================] - 1s 19us/step - loss: 0.1764 - acc: 0.9503 - val_loss: 0.1831 - val_acc: 0.9446\n",
      "Epoch 39/200\n",
      "60000/60000 [==============================] - 1s 20us/step - loss: 0.1724 - acc: 0.9511 - val_loss: 0.1818 - val_acc: 0.9453\n",
      "Epoch 40/200\n",
      "60000/60000 [==============================] - 1s 19us/step - loss: 0.1691 - acc: 0.9517 - val_loss: 0.1787 - val_acc: 0.9462\n",
      "Epoch 41/200\n",
      "60000/60000 [==============================] - 1s 20us/step - loss: 0.1657 - acc: 0.9527 - val_loss: 0.1750 - val_acc: 0.9474\n",
      "Epoch 42/200\n",
      "60000/60000 [==============================] - 1s 19us/step - loss: 0.1626 - acc: 0.9536 - val_loss: 0.1728 - val_acc: 0.9482\n",
      "Epoch 43/200\n",
      "60000/60000 [==============================] - 1s 19us/step - loss: 0.1594 - acc: 0.9539 - val_loss: 0.1697 - val_acc: 0.9489\n",
      "Epoch 44/200\n",
      "60000/60000 [==============================] - 1s 19us/step - loss: 0.1566 - acc: 0.9552 - val_loss: 0.1672 - val_acc: 0.9496\n",
      "Epoch 45/200\n",
      "60000/60000 [==============================] - 1s 20us/step - loss: 0.1538 - acc: 0.9561 - val_loss: 0.1638 - val_acc: 0.9509\n",
      "Epoch 46/200\n",
      "60000/60000 [==============================] - 1s 20us/step - loss: 0.1511 - acc: 0.9567 - val_loss: 0.1624 - val_acc: 0.9516\n",
      "Epoch 47/200\n",
      "60000/60000 [==============================] - 1s 20us/step - loss: 0.1483 - acc: 0.9574 - val_loss: 0.1613 - val_acc: 0.9516\n",
      "Epoch 48/200\n",
      "60000/60000 [==============================] - 1s 19us/step - loss: 0.1458 - acc: 0.9579 - val_loss: 0.1588 - val_acc: 0.9527\n",
      "Epoch 49/200\n",
      "60000/60000 [==============================] - 1s 19us/step - loss: 0.1434 - acc: 0.9588 - val_loss: 0.1561 - val_acc: 0.9528\n",
      "Epoch 50/200\n",
      "60000/60000 [==============================] - 1s 20us/step - loss: 0.1409 - acc: 0.9595 - val_loss: 0.1543 - val_acc: 0.9532\n",
      "Epoch 51/200\n",
      "60000/60000 [==============================] - 1s 20us/step - loss: 0.1389 - acc: 0.9602 - val_loss: 0.1544 - val_acc: 0.9539\n",
      "Epoch 52/200\n",
      "60000/60000 [==============================] - 1s 19us/step - loss: 0.1365 - acc: 0.9605 - val_loss: 0.1513 - val_acc: 0.9541\n",
      "Epoch 53/200\n",
      "60000/60000 [==============================] - 1s 19us/step - loss: 0.1344 - acc: 0.9613 - val_loss: 0.1499 - val_acc: 0.9556\n",
      "Epoch 54/200\n",
      "60000/60000 [==============================] - 1s 20us/step - loss: 0.1323 - acc: 0.9619 - val_loss: 0.1488 - val_acc: 0.9560\n",
      "Epoch 55/200\n",
      "60000/60000 [==============================] - 1s 20us/step - loss: 0.1307 - acc: 0.9622 - val_loss: 0.1474 - val_acc: 0.9565\n",
      "Epoch 56/200\n",
      "60000/60000 [==============================] - 1s 21us/step - loss: 0.1285 - acc: 0.9635 - val_loss: 0.1448 - val_acc: 0.9569\n",
      "Epoch 57/200\n",
      "60000/60000 [==============================] - 1s 19us/step - loss: 0.1267 - acc: 0.9637 - val_loss: 0.1434 - val_acc: 0.9585\n",
      "Epoch 58/200\n",
      "60000/60000 [==============================] - 1s 20us/step - loss: 0.1249 - acc: 0.9640 - val_loss: 0.1425 - val_acc: 0.9577\n",
      "Epoch 59/200\n"
     ]
    },
    {
     "name": "stdout",
     "output_type": "stream",
     "text": [
      "60000/60000 [==============================] - 1s 18us/step - loss: 0.1234 - acc: 0.9647 - val_loss: 0.1419 - val_acc: 0.9587\n",
      "Epoch 60/200\n",
      "60000/60000 [==============================] - 1s 18us/step - loss: 0.1217 - acc: 0.9653 - val_loss: 0.1395 - val_acc: 0.9588\n",
      "Epoch 61/200\n",
      "60000/60000 [==============================] - 1s 18us/step - loss: 0.1200 - acc: 0.9658 - val_loss: 0.1379 - val_acc: 0.9597\n",
      "Epoch 62/200\n",
      "60000/60000 [==============================] - 1s 18us/step - loss: 0.1184 - acc: 0.9661 - val_loss: 0.1374 - val_acc: 0.9590\n",
      "Epoch 63/200\n",
      "60000/60000 [==============================] - 1s 18us/step - loss: 0.1168 - acc: 0.9667 - val_loss: 0.1370 - val_acc: 0.9604\n",
      "Epoch 64/200\n",
      "60000/60000 [==============================] - 1s 18us/step - loss: 0.1154 - acc: 0.9669 - val_loss: 0.1366 - val_acc: 0.9603\n",
      "Epoch 65/200\n",
      "60000/60000 [==============================] - 1s 18us/step - loss: 0.1139 - acc: 0.9675 - val_loss: 0.1363 - val_acc: 0.9598\n",
      "Epoch 66/200\n",
      "60000/60000 [==============================] - 1s 18us/step - loss: 0.1125 - acc: 0.9677 - val_loss: 0.1327 - val_acc: 0.9604\n",
      "Epoch 67/200\n",
      "60000/60000 [==============================] - 1s 18us/step - loss: 0.1111 - acc: 0.9687 - val_loss: 0.1326 - val_acc: 0.9614\n",
      "Epoch 68/200\n",
      "60000/60000 [==============================] - 1s 18us/step - loss: 0.1098 - acc: 0.9689 - val_loss: 0.1309 - val_acc: 0.9614\n",
      "Epoch 69/200\n",
      "60000/60000 [==============================] - 1s 18us/step - loss: 0.1082 - acc: 0.9695 - val_loss: 0.1306 - val_acc: 0.9610\n",
      "Epoch 70/200\n",
      "60000/60000 [==============================] - 1s 18us/step - loss: 0.1073 - acc: 0.9696 - val_loss: 0.1295 - val_acc: 0.9626\n",
      "Epoch 71/200\n",
      "60000/60000 [==============================] - 1s 18us/step - loss: 0.1060 - acc: 0.9699 - val_loss: 0.1294 - val_acc: 0.9622\n",
      "Epoch 72/200\n",
      "60000/60000 [==============================] - 1s 23us/step - loss: 0.1047 - acc: 0.9708 - val_loss: 0.1276 - val_acc: 0.9622\n",
      "Epoch 73/200\n",
      "60000/60000 [==============================] - 1s 22us/step - loss: 0.1036 - acc: 0.9712 - val_loss: 0.1254 - val_acc: 0.9645\n",
      "Epoch 74/200\n",
      "60000/60000 [==============================] - 1s 20us/step - loss: 0.1022 - acc: 0.9713 - val_loss: 0.1249 - val_acc: 0.9640\n",
      "Epoch 75/200\n",
      "60000/60000 [==============================] - 1s 19us/step - loss: 0.1012 - acc: 0.9716 - val_loss: 0.1237 - val_acc: 0.9646\n",
      "Epoch 76/200\n",
      "60000/60000 [==============================] - 1s 19us/step - loss: 0.0999 - acc: 0.9717 - val_loss: 0.1239 - val_acc: 0.9641\n",
      "Epoch 77/200\n",
      "60000/60000 [==============================] - 1s 19us/step - loss: 0.0988 - acc: 0.9720 - val_loss: 0.1223 - val_acc: 0.9654\n",
      "Epoch 78/200\n",
      "60000/60000 [==============================] - 1s 20us/step - loss: 0.0978 - acc: 0.9725 - val_loss: 0.1215 - val_acc: 0.9636\n",
      "Epoch 79/200\n",
      "60000/60000 [==============================] - 1s 19us/step - loss: 0.0964 - acc: 0.9728 - val_loss: 0.1238 - val_acc: 0.9645\n",
      "Epoch 80/200\n",
      "60000/60000 [==============================] - 1s 19us/step - loss: 0.0956 - acc: 0.9732 - val_loss: 0.1211 - val_acc: 0.9657\n",
      "Epoch 81/200\n",
      "60000/60000 [==============================] - 1s 19us/step - loss: 0.0946 - acc: 0.9728 - val_loss: 0.1210 - val_acc: 0.9656\n",
      "Epoch 82/200\n",
      "60000/60000 [==============================] - 1s 19us/step - loss: 0.0935 - acc: 0.9737 - val_loss: 0.1195 - val_acc: 0.9653\n",
      "Epoch 83/200\n",
      "60000/60000 [==============================] - 1s 19us/step - loss: 0.0923 - acc: 0.9738 - val_loss: 0.1201 - val_acc: 0.9654\n",
      "Epoch 84/200\n",
      "60000/60000 [==============================] - 1s 19us/step - loss: 0.0915 - acc: 0.9740 - val_loss: 0.1188 - val_acc: 0.9650\n",
      "Epoch 85/200\n",
      "60000/60000 [==============================] - 1s 20us/step - loss: 0.0905 - acc: 0.9747 - val_loss: 0.1185 - val_acc: 0.9660\n",
      "Epoch 86/200\n",
      "60000/60000 [==============================] - 1s 19us/step - loss: 0.0895 - acc: 0.9745 - val_loss: 0.1193 - val_acc: 0.9653\n",
      "Epoch 87/200\n",
      "60000/60000 [==============================] - 1s 20us/step - loss: 0.0883 - acc: 0.9754 - val_loss: 0.1183 - val_acc: 0.9648\n",
      "Epoch 88/200\n",
      "60000/60000 [==============================] - 1s 22us/step - loss: 0.0878 - acc: 0.9749 - val_loss: 0.1159 - val_acc: 0.9663\n",
      "Epoch 89/200\n",
      "60000/60000 [==============================] - 1s 21us/step - loss: 0.0867 - acc: 0.9751 - val_loss: 0.1161 - val_acc: 0.9655\n",
      "Epoch 90/200\n",
      "60000/60000 [==============================] - 1s 23us/step - loss: 0.0860 - acc: 0.9756 - val_loss: 0.1154 - val_acc: 0.9665\n",
      "Epoch 91/200\n",
      "60000/60000 [==============================] - 1s 19us/step - loss: 0.0852 - acc: 0.9759 - val_loss: 0.1135 - val_acc: 0.9671\n",
      "Epoch 92/200\n",
      "60000/60000 [==============================] - 1s 19us/step - loss: 0.0840 - acc: 0.9765 - val_loss: 0.1153 - val_acc: 0.9675\n",
      "Epoch 93/200\n",
      "60000/60000 [==============================] - 1s 20us/step - loss: 0.0834 - acc: 0.9764 - val_loss: 0.1138 - val_acc: 0.9669\n",
      "Epoch 94/200\n",
      "60000/60000 [==============================] - 1s 20us/step - loss: 0.0827 - acc: 0.9764 - val_loss: 0.1140 - val_acc: 0.9668\n",
      "Epoch 95/200\n",
      "60000/60000 [==============================] - 1s 19us/step - loss: 0.0817 - acc: 0.9770 - val_loss: 0.1132 - val_acc: 0.9664\n",
      "Epoch 96/200\n",
      "60000/60000 [==============================] - 1s 19us/step - loss: 0.0812 - acc: 0.9766 - val_loss: 0.1111 - val_acc: 0.9674\n",
      "Epoch 97/200\n",
      "60000/60000 [==============================] - 1s 20us/step - loss: 0.0801 - acc: 0.9773 - val_loss: 0.1120 - val_acc: 0.9673\n",
      "Epoch 98/200\n",
      "60000/60000 [==============================] - 1s 19us/step - loss: 0.0793 - acc: 0.9771 - val_loss: 0.1112 - val_acc: 0.9674\n",
      "Epoch 99/200\n",
      "60000/60000 [==============================] - 1s 19us/step - loss: 0.0789 - acc: 0.9776 - val_loss: 0.1115 - val_acc: 0.9675\n",
      "Epoch 100/200\n",
      "60000/60000 [==============================] - 1s 20us/step - loss: 0.0779 - acc: 0.9775 - val_loss: 0.1122 - val_acc: 0.9665\n",
      "Epoch 101/200\n",
      "60000/60000 [==============================] - 1s 19us/step - loss: 0.0774 - acc: 0.9779 - val_loss: 0.1114 - val_acc: 0.9673\n",
      "Epoch 102/200\n",
      "60000/60000 [==============================] - 1s 19us/step - loss: 0.0768 - acc: 0.9780 - val_loss: 0.1110 - val_acc: 0.9665\n",
      "Epoch 103/200\n",
      "60000/60000 [==============================] - 1s 20us/step - loss: 0.0757 - acc: 0.9784 - val_loss: 0.1118 - val_acc: 0.9670\n",
      "Epoch 104/200\n",
      "60000/60000 [==============================] - 1s 19us/step - loss: 0.0753 - acc: 0.9784 - val_loss: 0.1096 - val_acc: 0.9684\n",
      "Epoch 105/200\n",
      "60000/60000 [==============================] - 1s 19us/step - loss: 0.0746 - acc: 0.9781 - val_loss: 0.1093 - val_acc: 0.9668\n",
      "Epoch 106/200\n",
      "60000/60000 [==============================] - 1s 20us/step - loss: 0.0741 - acc: 0.9789 - val_loss: 0.1094 - val_acc: 0.9674\n",
      "Epoch 107/200\n",
      "60000/60000 [==============================] - 1s 19us/step - loss: 0.0734 - acc: 0.9791 - val_loss: 0.1090 - val_acc: 0.9677\n",
      "Epoch 108/200\n",
      "60000/60000 [==============================] - 1s 19us/step - loss: 0.0726 - acc: 0.9793 - val_loss: 0.1097 - val_acc: 0.9673\n",
      "Epoch 109/200\n",
      "60000/60000 [==============================] - 1s 19us/step - loss: 0.0720 - acc: 0.9788 - val_loss: 0.1091 - val_acc: 0.9683\n",
      "Epoch 110/200\n",
      "60000/60000 [==============================] - 1s 20us/step - loss: 0.0715 - acc: 0.9796 - val_loss: 0.1091 - val_acc: 0.9680\n",
      "Epoch 111/200\n",
      "60000/60000 [==============================] - 1s 20us/step - loss: 0.0709 - acc: 0.9796 - val_loss: 0.1087 - val_acc: 0.9679\n",
      "Epoch 112/200\n",
      "60000/60000 [==============================] - 1s 21us/step - loss: 0.0704 - acc: 0.9796 - val_loss: 0.1108 - val_acc: 0.9670\n",
      "Epoch 113/200\n",
      "60000/60000 [==============================] - 1s 22us/step - loss: 0.0698 - acc: 0.9795 - val_loss: 0.1092 - val_acc: 0.9678\n",
      "Epoch 114/200\n",
      "60000/60000 [==============================] - 1s 20us/step - loss: 0.0690 - acc: 0.9801 - val_loss: 0.1085 - val_acc: 0.9672\n",
      "Epoch 115/200\n",
      "60000/60000 [==============================] - 1s 21us/step - loss: 0.0685 - acc: 0.9804 - val_loss: 0.1090 - val_acc: 0.9678\n",
      "Epoch 116/200\n",
      "60000/60000 [==============================] - 2s 28us/step - loss: 0.0680 - acc: 0.9807 - val_loss: 0.1097 - val_acc: 0.9672\n",
      "Epoch 117/200\n",
      "60000/60000 [==============================] - 2s 27us/step - loss: 0.0673 - acc: 0.9810 - val_loss: 0.1078 - val_acc: 0.9687\n"
     ]
    },
    {
     "name": "stdout",
     "output_type": "stream",
     "text": [
      "Epoch 118/200\n",
      "60000/60000 [==============================] - 1s 20us/step - loss: 0.0670 - acc: 0.9806 - val_loss: 0.1073 - val_acc: 0.9680\n",
      "Epoch 119/200\n",
      "60000/60000 [==============================] - 1s 15us/step - loss: 0.0665 - acc: 0.9812 - val_loss: 0.1080 - val_acc: 0.9678\n",
      "Epoch 120/200\n",
      "60000/60000 [==============================] - 1s 14us/step - loss: 0.0658 - acc: 0.9809 - val_loss: 0.1074 - val_acc: 0.9677\n",
      "Epoch 121/200\n",
      "60000/60000 [==============================] - 1s 17us/step - loss: 0.0653 - acc: 0.9814 - val_loss: 0.1085 - val_acc: 0.9679\n",
      "Epoch 122/200\n",
      "60000/60000 [==============================] - 1s 15us/step - loss: 0.0647 - acc: 0.9815 - val_loss: 0.1077 - val_acc: 0.9683\n",
      "Epoch 123/200\n",
      "60000/60000 [==============================] - 1s 14us/step - loss: 0.0643 - acc: 0.9820 - val_loss: 0.1082 - val_acc: 0.9677\n",
      "Epoch 124/200\n",
      "60000/60000 [==============================] - 1s 14us/step - loss: 0.0640 - acc: 0.9820 - val_loss: 0.1069 - val_acc: 0.9684\n",
      "Epoch 125/200\n",
      "60000/60000 [==============================] - 1s 17us/step - loss: 0.0633 - acc: 0.9821 - val_loss: 0.1069 - val_acc: 0.9676\n",
      "Epoch 126/200\n",
      "60000/60000 [==============================] - 1s 16us/step - loss: 0.0629 - acc: 0.9819 - val_loss: 0.1058 - val_acc: 0.9680\n",
      "Epoch 127/200\n",
      "60000/60000 [==============================] - 1s 15us/step - loss: 0.0622 - acc: 0.9822 - val_loss: 0.1069 - val_acc: 0.9679\n",
      "Epoch 128/200\n",
      "60000/60000 [==============================] - 1s 15us/step - loss: 0.0619 - acc: 0.9821 - val_loss: 0.1062 - val_acc: 0.9684\n",
      "Epoch 129/200\n",
      "60000/60000 [==============================] - 1s 15us/step - loss: 0.0613 - acc: 0.9826 - val_loss: 0.1076 - val_acc: 0.9677\n",
      "Epoch 130/200\n",
      "60000/60000 [==============================] - 1s 15us/step - loss: 0.0608 - acc: 0.9828 - val_loss: 0.1068 - val_acc: 0.9684\n",
      "Epoch 131/200\n",
      "60000/60000 [==============================] - 1s 15us/step - loss: 0.0604 - acc: 0.9826 - val_loss: 0.1072 - val_acc: 0.9677\n",
      "Epoch 132/200\n",
      "60000/60000 [==============================] - 1s 15us/step - loss: 0.0601 - acc: 0.9824 - val_loss: 0.1069 - val_acc: 0.9679\n",
      "Epoch 133/200\n",
      "60000/60000 [==============================] - 1s 15us/step - loss: 0.0597 - acc: 0.9829 - val_loss: 0.1070 - val_acc: 0.9689\n",
      "Epoch 134/200\n",
      "60000/60000 [==============================] - 1s 14us/step - loss: 0.0591 - acc: 0.9829 - val_loss: 0.1064 - val_acc: 0.9688\n",
      "Epoch 135/200\n",
      "60000/60000 [==============================] - 1s 15us/step - loss: 0.0588 - acc: 0.9833 - val_loss: 0.1058 - val_acc: 0.9693\n",
      "Epoch 136/200\n",
      "60000/60000 [==============================] - 1s 14us/step - loss: 0.0582 - acc: 0.9833 - val_loss: 0.1071 - val_acc: 0.9686\n",
      "Epoch 137/200\n",
      "60000/60000 [==============================] - 1s 15us/step - loss: 0.0578 - acc: 0.9833 - val_loss: 0.1079 - val_acc: 0.9679\n",
      "Epoch 138/200\n",
      "60000/60000 [==============================] - 1s 15us/step - loss: 0.0574 - acc: 0.9836 - val_loss: 0.1074 - val_acc: 0.9687\n",
      "Epoch 139/200\n",
      "60000/60000 [==============================] - 1s 14us/step - loss: 0.0569 - acc: 0.9837 - val_loss: 0.1066 - val_acc: 0.9683\n",
      "Epoch 140/200\n",
      "60000/60000 [==============================] - 1s 14us/step - loss: 0.0566 - acc: 0.9837 - val_loss: 0.1068 - val_acc: 0.9683\n",
      "Epoch 141/200\n",
      "60000/60000 [==============================] - 1s 14us/step - loss: 0.0561 - acc: 0.9841 - val_loss: 0.1065 - val_acc: 0.9684\n",
      "Epoch 142/200\n",
      "60000/60000 [==============================] - 1s 14us/step - loss: 0.0557 - acc: 0.9841 - val_loss: 0.1072 - val_acc: 0.9680\n",
      "Epoch 143/200\n",
      "60000/60000 [==============================] - 1s 23us/step - loss: 0.0552 - acc: 0.9843 - val_loss: 0.1072 - val_acc: 0.9682\n",
      "Epoch 144/200\n",
      "60000/60000 [==============================] - 2s 28us/step - loss: 0.0549 - acc: 0.9844 - val_loss: 0.1063 - val_acc: 0.9691\n",
      "Epoch 145/200\n",
      "60000/60000 [==============================] - 1s 21us/step - loss: 0.0545 - acc: 0.9843 - val_loss: 0.1066 - val_acc: 0.9688\n",
      "Epoch 146/200\n",
      "60000/60000 [==============================] - 1s 14us/step - loss: 0.0541 - acc: 0.9850 - val_loss: 0.1063 - val_acc: 0.9686\n",
      "Epoch 147/200\n",
      "60000/60000 [==============================] - 1s 14us/step - loss: 0.0537 - acc: 0.9848 - val_loss: 0.1073 - val_acc: 0.9688\n",
      "Epoch 148/200\n",
      "60000/60000 [==============================] - 1s 14us/step - loss: 0.0534 - acc: 0.9849 - val_loss: 0.1069 - val_acc: 0.9688\n",
      "Epoch 149/200\n",
      "60000/60000 [==============================] - 1s 14us/step - loss: 0.0530 - acc: 0.9847 - val_loss: 0.1063 - val_acc: 0.9689\n",
      "Epoch 150/200\n",
      "60000/60000 [==============================] - 1s 14us/step - loss: 0.0524 - acc: 0.9854 - val_loss: 0.1071 - val_acc: 0.9686\n",
      "Epoch 151/200\n",
      "60000/60000 [==============================] - 1s 14us/step - loss: 0.0521 - acc: 0.9853 - val_loss: 0.1065 - val_acc: 0.9687\n",
      "Epoch 152/200\n",
      "60000/60000 [==============================] - 1s 14us/step - loss: 0.0518 - acc: 0.9851 - val_loss: 0.1073 - val_acc: 0.9681\n",
      "Epoch 153/200\n",
      "60000/60000 [==============================] - 1s 14us/step - loss: 0.0514 - acc: 0.9855 - val_loss: 0.1061 - val_acc: 0.9686\n",
      "Epoch 154/200\n",
      "60000/60000 [==============================] - 1s 14us/step - loss: 0.0510 - acc: 0.9856 - val_loss: 0.1061 - val_acc: 0.9684\n",
      "Epoch 155/200\n",
      "60000/60000 [==============================] - 1s 14us/step - loss: 0.0506 - acc: 0.9861 - val_loss: 0.1075 - val_acc: 0.9687\n",
      "Epoch 156/200\n",
      "60000/60000 [==============================] - 1s 14us/step - loss: 0.0504 - acc: 0.9860 - val_loss: 0.1067 - val_acc: 0.9686\n",
      "Epoch 157/200\n",
      "60000/60000 [==============================] - 1s 14us/step - loss: 0.0501 - acc: 0.9861 - val_loss: 0.1063 - val_acc: 0.9687\n",
      "Epoch 158/200\n",
      "60000/60000 [==============================] - 1s 21us/step - loss: 0.0496 - acc: 0.9857 - val_loss: 0.1084 - val_acc: 0.9682\n",
      "Epoch 159/200\n",
      "60000/60000 [==============================] - 1s 14us/step - loss: 0.0494 - acc: 0.9860 - val_loss: 0.1077 - val_acc: 0.9683\n",
      "Epoch 160/200\n",
      "60000/60000 [==============================] - 1s 14us/step - loss: 0.0488 - acc: 0.9864 - val_loss: 0.1122 - val_acc: 0.9680\n",
      "Epoch 161/200\n",
      "60000/60000 [==============================] - 1s 20us/step - loss: 0.0487 - acc: 0.9861 - val_loss: 0.1070 - val_acc: 0.9692\n",
      "Epoch 162/200\n",
      "60000/60000 [==============================] - 1s 14us/step - loss: 0.0482 - acc: 0.9866 - val_loss: 0.1093 - val_acc: 0.9688\n",
      "Epoch 163/200\n",
      "60000/60000 [==============================] - 1s 14us/step - loss: 0.0479 - acc: 0.9867 - val_loss: 0.1084 - val_acc: 0.9679\n",
      "Epoch 164/200\n",
      "60000/60000 [==============================] - 1s 14us/step - loss: 0.0475 - acc: 0.9868 - val_loss: 0.1080 - val_acc: 0.9676\n",
      "Epoch 165/200\n",
      "60000/60000 [==============================] - 1s 18us/step - loss: 0.0471 - acc: 0.9869 - val_loss: 0.1084 - val_acc: 0.9679\n",
      "Epoch 166/200\n",
      "60000/60000 [==============================] - 2s 41us/step - loss: 0.0469 - acc: 0.9869 - val_loss: 0.1074 - val_acc: 0.9684\n",
      "Epoch 167/200\n",
      "60000/60000 [==============================] - 1s 22us/step - loss: 0.0464 - acc: 0.9872 - val_loss: 0.1084 - val_acc: 0.9683\n",
      "Epoch 168/200\n",
      "60000/60000 [==============================] - 1s 15us/step - loss: 0.0463 - acc: 0.9871 - val_loss: 0.1082 - val_acc: 0.9682\n",
      "Epoch 169/200\n",
      "60000/60000 [==============================] - 1s 14us/step - loss: 0.0459 - acc: 0.9873 - val_loss: 0.1076 - val_acc: 0.9681\n",
      "Epoch 170/200\n",
      "60000/60000 [==============================] - 1s 14us/step - loss: 0.0454 - acc: 0.9876 - val_loss: 0.1101 - val_acc: 0.9672\n",
      "Epoch 171/200\n",
      "60000/60000 [==============================] - 1s 14us/step - loss: 0.0452 - acc: 0.9875 - val_loss: 0.1076 - val_acc: 0.9689\n",
      "Epoch 172/200\n",
      "60000/60000 [==============================] - 1s 14us/step - loss: 0.0449 - acc: 0.9875 - val_loss: 0.1085 - val_acc: 0.9688\n",
      "Epoch 173/200\n",
      "60000/60000 [==============================] - 1s 14us/step - loss: 0.0446 - acc: 0.9877 - val_loss: 0.1078 - val_acc: 0.9686\n",
      "Epoch 174/200\n",
      "60000/60000 [==============================] - 2s 35us/step - loss: 0.0444 - acc: 0.9875 - val_loss: 0.1104 - val_acc: 0.9681\n",
      "Epoch 175/200\n",
      "60000/60000 [==============================] - 2s 31us/step - loss: 0.0440 - acc: 0.9879 - val_loss: 0.1083 - val_acc: 0.9690\n",
      "Epoch 176/200\n"
     ]
    },
    {
     "name": "stdout",
     "output_type": "stream",
     "text": [
      "60000/60000 [==============================] - 1s 14us/step - loss: 0.0436 - acc: 0.9877 - val_loss: 0.1086 - val_acc: 0.9694\n",
      "Epoch 177/200\n",
      "60000/60000 [==============================] - 1s 14us/step - loss: 0.0434 - acc: 0.9878 - val_loss: 0.1092 - val_acc: 0.9681\n",
      "Epoch 178/200\n",
      "60000/60000 [==============================] - 1s 14us/step - loss: 0.0433 - acc: 0.9880 - val_loss: 0.1080 - val_acc: 0.9682\n",
      "Epoch 179/200\n",
      "60000/60000 [==============================] - 1s 14us/step - loss: 0.0427 - acc: 0.9879 - val_loss: 0.1082 - val_acc: 0.9690\n",
      "Epoch 180/200\n",
      "60000/60000 [==============================] - 1s 14us/step - loss: 0.0424 - acc: 0.9881 - val_loss: 0.1109 - val_acc: 0.9673\n",
      "Epoch 181/200\n",
      "60000/60000 [==============================] - 1s 14us/step - loss: 0.0422 - acc: 0.9880 - val_loss: 0.1094 - val_acc: 0.9682\n",
      "Epoch 182/200\n",
      "60000/60000 [==============================] - 1s 15us/step - loss: 0.0418 - acc: 0.9886 - val_loss: 0.1090 - val_acc: 0.9685\n",
      "Epoch 183/200\n",
      "60000/60000 [==============================] - 1s 15us/step - loss: 0.0418 - acc: 0.9886 - val_loss: 0.1089 - val_acc: 0.9686\n",
      "Epoch 184/200\n",
      "60000/60000 [==============================] - 1s 14us/step - loss: 0.0413 - acc: 0.9885 - val_loss: 0.1098 - val_acc: 0.9683\n",
      "Epoch 185/200\n",
      "60000/60000 [==============================] - 1s 15us/step - loss: 0.0410 - acc: 0.9887 - val_loss: 0.1096 - val_acc: 0.9683\n",
      "Epoch 186/200\n",
      "60000/60000 [==============================] - 1s 14us/step - loss: 0.0410 - acc: 0.9887 - val_loss: 0.1093 - val_acc: 0.9689\n",
      "Epoch 187/200\n",
      "60000/60000 [==============================] - 1s 14us/step - loss: 0.0405 - acc: 0.9886 - val_loss: 0.1107 - val_acc: 0.9685\n",
      "Epoch 188/200\n",
      "60000/60000 [==============================] - 1s 15us/step - loss: 0.0403 - acc: 0.9888 - val_loss: 0.1105 - val_acc: 0.9682\n",
      "Epoch 189/200\n",
      "60000/60000 [==============================] - 1s 15us/step - loss: 0.0399 - acc: 0.9891 - val_loss: 0.1097 - val_acc: 0.9683\n",
      "Epoch 190/200\n",
      "60000/60000 [==============================] - 1s 15us/step - loss: 0.0396 - acc: 0.9893 - val_loss: 0.1103 - val_acc: 0.9690\n",
      "Epoch 191/200\n",
      "60000/60000 [==============================] - 1s 15us/step - loss: 0.0393 - acc: 0.9893 - val_loss: 0.1099 - val_acc: 0.9691\n",
      "Epoch 192/200\n",
      "60000/60000 [==============================] - 1s 15us/step - loss: 0.0392 - acc: 0.9891 - val_loss: 0.1103 - val_acc: 0.9689\n",
      "Epoch 193/200\n",
      "60000/60000 [==============================] - 1s 14us/step - loss: 0.0389 - acc: 0.9895 - val_loss: 0.1100 - val_acc: 0.9686\n",
      "Epoch 194/200\n",
      "60000/60000 [==============================] - 1s 14us/step - loss: 0.0386 - acc: 0.9894 - val_loss: 0.1108 - val_acc: 0.9686\n",
      "Epoch 195/200\n",
      "60000/60000 [==============================] - 1s 15us/step - loss: 0.0385 - acc: 0.9894 - val_loss: 0.1098 - val_acc: 0.9696\n",
      "Epoch 196/200\n",
      "60000/60000 [==============================] - 1s 15us/step - loss: 0.0381 - acc: 0.9891 - val_loss: 0.1119 - val_acc: 0.9682\n",
      "Epoch 197/200\n",
      "60000/60000 [==============================] - 1s 15us/step - loss: 0.0379 - acc: 0.9897 - val_loss: 0.1103 - val_acc: 0.9690\n",
      "Epoch 198/200\n",
      "60000/60000 [==============================] - 1s 14us/step - loss: 0.0377 - acc: 0.9899 - val_loss: 0.1108 - val_acc: 0.9688\n",
      "Epoch 199/200\n",
      "60000/60000 [==============================] - 1s 15us/step - loss: 0.0374 - acc: 0.9901 - val_loss: 0.1114 - val_acc: 0.9688\n",
      "Epoch 200/200\n",
      "60000/60000 [==============================] - 1s 15us/step - loss: 0.0371 - acc: 0.9900 - val_loss: 0.1119 - val_acc: 0.9686\n"
     ]
    }
   ],
   "source": [
    "modelo.compile(loss='categorical_crossentropy', optimizer=otimizador, metrics=['acc'])\n",
    "historico = modelo.fit(x_treino_normalizado, y_treino_convertido, epochs=200, batch_size=100, validation_data=(x_teste_normalizado, y_teste_convertido), verbose=1) "
   ]
  },
  {
   "cell_type": "code",
   "execution_count": 71,
   "metadata": {},
   "outputs": [],
   "source": [
    "acc_treino = historico.history['acc']\n",
    "acc_teste = historico.history['val_acc']\n",
    "epochs = range(1, len(acc_treino)+1)"
   ]
  },
  {
   "cell_type": "code",
   "execution_count": 72,
   "metadata": {},
   "outputs": [
    {
     "data": {
      "image/png": "[encoded data removed]",
      "text/plain": [
       "<Figure size 432x288 with 1 Axes>"
      ]
     },
     "metadata": {
      "needs_background": "light"
     },
     "output_type": "display_data"
    }
   ],
   "source": [
    "plt.plot(epochs, acc_treino, label='Train')\n",
    "plt.plot(epochs, acc_teste, label='Test')\n",
    "\n",
    "plt.xlabel('Epochs')\n",
    "plt.ylabel('Accuracy')\n",
    "\n",
    "plt.title(\"CNN 00 Mnist Classifier\")\n",
    "\n",
    "plt.legend()\n",
    "\n",
    "plt.show()"
   ]
  },
  {
   "cell_type": "code",
   "execution_count": null,
   "metadata": {},
   "outputs": [],
   "source": []
  }
 ],
 "metadata": {
  "kernelspec": {
   "display_name": "Python 2",
   "language": "python",
   "name": "python2"
  },
  "language_info": {
   "codemirror_mode": {
    "name": "ipython",
    "version": 2
   },
   "file_extension": ".py",
   "mimetype": "text/x-python",
   "name": "python",
   "nbconvert_exporter": "python",
   "pygments_lexer": "ipython2",
   "version": "2.7.16"
  }
 },
 "nbformat": 4,
 "nbformat_minor": 2
}
