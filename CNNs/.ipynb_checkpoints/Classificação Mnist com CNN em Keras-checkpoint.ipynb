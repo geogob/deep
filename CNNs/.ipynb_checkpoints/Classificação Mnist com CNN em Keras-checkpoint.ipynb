{
 "cells": [
  {
   "cell_type": "code",
   "execution_count": 1,
   "metadata": {},
   "outputs": [
    {
     "name": "stderr",
     "output_type": "stream",
     "text": [
      "Using TensorFlow backend.\n"
     ]
    }
   ],
   "source": [
    "from keras.datasets import mnist\n",
    "(x_treino, y_treino),(x_teste, y_teste) = mnist.load_data()"
   ]
  },
  {
   "cell_type": "code",
   "execution_count": 2,
   "metadata": {},
   "outputs": [
    {
     "data": {
      "text/plain": [
       "(60000, 28, 28)"
      ]
     },
     "execution_count": 2,
     "metadata": {},
     "output_type": "execute_result"
    }
   ],
   "source": [
    "x_treino.shape"
   ]
  },
  {
   "cell_type": "code",
   "execution_count": 6,
   "metadata": {},
   "outputs": [
    {
     "data": {
      "text/plain": [
       "(60000,)"
      ]
     },
     "execution_count": 6,
     "metadata": {},
     "output_type": "execute_result"
    }
   ],
   "source": [
    "y_treino.shape"
   ]
  },
  {
   "cell_type": "code",
   "execution_count": 7,
   "metadata": {},
   "outputs": [],
   "source": [
    "from keras.utils import to_categorical\n",
    "y_treino = to_categorical(y_treino)\n",
    "y_teste = to_categorical(y_teste)"
   ]
  },
  {
   "cell_type": "code",
   "execution_count": 8,
   "metadata": {},
   "outputs": [],
   "source": [
    "#Reshape pro modelo de convolução conseguir receber os dados: altura, largura e padrão de cores (3 dimensões)\n",
    "x_treino = x_treino.reshape(60000,28,28,1)\n",
    "x_teste = x_teste.reshape(10000,28,28,1)"
   ]
  },
  {
   "cell_type": "code",
   "execution_count": 14,
   "metadata": {},
   "outputs": [
    {
     "name": "stderr",
     "output_type": "stream",
     "text": [
      "W0412 15:02:33.951221 140689468327296 deprecation_wrapper.py:119] From /home/george/anaconda2/lib/python2.7/site-packages/keras/backend/tensorflow_backend.py:4115: The name tf.random_normal is deprecated. Please use tf.random.normal instead.\n",
      "\n",
      "W0412 15:02:34.018714 140689468327296 deprecation_wrapper.py:119] From /home/george/anaconda2/lib/python2.7/site-packages/keras/backend/tensorflow_backend.py:133: The name tf.placeholder_with_default is deprecated. Please use tf.compat.v1.placeholder_with_default instead.\n",
      "\n",
      "W0412 15:02:34.054441 140689468327296 deprecation.py:506] From /home/george/anaconda2/lib/python2.7/site-packages/keras/backend/tensorflow_backend.py:3445: calling dropout (from tensorflow.python.ops.nn_ops) with keep_prob is deprecated and will be removed in a future version.\n",
      "Instructions for updating:\n",
      "Please use `rate` instead of `keep_prob`. Rate should be set to `rate = 1 - keep_prob`.\n"
     ]
    }
   ],
   "source": [
    "from keras.models import Sequential\n",
    "from keras.layers import Dense, Dropout, Conv2D, Flatten, MaxPooling2D\n",
    "\n",
    "#criando a rede CNN\n",
    "modelo = Sequential()\n",
    "#entrada\n",
    "modelo.add(Conv2D(filters=32, kernel_size = 5, activation='relu', input_shape=(28,28,1)))\n",
    "modelo.add(MaxPooling2D(pool_size=(2,2), strides=None, padding='valid'))\n",
    "#segunda convolution layer\n",
    "modelo.add(Conv2D(filters=64, kernel_size=5, activation='relu'))\n",
    "modelo.add(MaxPooling2D(pool_size=(2,2), strides=None, padding='valid'))\n",
    "modelo.add(Flatten()) #transforma um espaço unidimensional em uma única dimensão: IMportante para utilizar a camada densa\n",
    "#Camada Densa\n",
    "modelo.add(Dense(80, kernel_initializer='normal', activation='relu'))\n",
    "modelo.add(Dropout(0.2))\n",
    "modelo.add(Dense(10, kernel_initializer='normal', activation='softmax'))"
   ]
  },
  {
   "cell_type": "code",
   "execution_count": 15,
   "metadata": {},
   "outputs": [
    {
     "name": "stderr",
     "output_type": "stream",
     "text": [
      "W0412 15:04:02.988970 140689468327296 deprecation_wrapper.py:119] From /home/george/anaconda2/lib/python2.7/site-packages/keras/optimizers.py:790: The name tf.train.Optimizer is deprecated. Please use tf.compat.v1.train.Optimizer instead.\n",
      "\n"
     ]
    }
   ],
   "source": [
    "#qual otimizador e função de custo?\n",
    "modelo.compile(optimizer='adam', loss='categorical_crossentropy', metrics=['accuracy'])\n"
   ]
  },
  {
   "cell_type": "code",
   "execution_count": 16,
   "metadata": {},
   "outputs": [
    {
     "name": "stderr",
     "output_type": "stream",
     "text": [
      "W0412 15:06:01.968564 140689468327296 deprecation.py:323] From /home/george/anaconda2/lib/python2.7/site-packages/tensorflow/python/ops/math_grad.py:1250: where (from tensorflow.python.ops.array_ops) is deprecated and will be removed in a future version.\n",
      "Instructions for updating:\n",
      "Use tf.where in 2.0, which has the same broadcast rule as np.where\n"
     ]
    },
    {
     "name": "stdout",
     "output_type": "stream",
     "text": [
      "Train on 60000 samples, validate on 10000 samples\n",
      "Epoch 1/10\n",
      "60000/60000 [==============================] - 39s 658us/step - loss: 0.6129 - acc: 0.8945 - val_loss: 0.0741 - val_acc: 0.9771\n",
      "Epoch 2/10\n",
      "60000/60000 [==============================] - 34s 569us/step - loss: 0.0781 - acc: 0.9765 - val_loss: 0.0486 - val_acc: 0.9857\n",
      "Epoch 3/10\n",
      "60000/60000 [==============================] - 50s 827us/step - loss: 0.0504 - acc: 0.9849 - val_loss: 0.0374 - val_acc: 0.9885\n",
      "Epoch 4/10\n",
      "60000/60000 [==============================] - 56s 941us/step - loss: 0.0403 - acc: 0.9876 - val_loss: 0.0347 - val_acc: 0.9901\n",
      "Epoch 5/10\n",
      "60000/60000 [==============================] - 58s 959us/step - loss: 0.0321 - acc: 0.9898 - val_loss: 0.0309 - val_acc: 0.9908\n",
      "Epoch 6/10\n",
      "60000/60000 [==============================] - 49s 821us/step - loss: 0.0278 - acc: 0.9913 - val_loss: 0.0352 - val_acc: 0.9895\n",
      "Epoch 7/10\n",
      "60000/60000 [==============================] - 31s 509us/step - loss: 0.0254 - acc: 0.9918 - val_loss: 0.0416 - val_acc: 0.9890\n",
      "Epoch 8/10\n",
      "60000/60000 [==============================] - 46s 774us/step - loss: 0.0247 - acc: 0.9921 - val_loss: 0.0334 - val_acc: 0.9897\n",
      "Epoch 9/10\n",
      "60000/60000 [==============================] - 45s 756us/step - loss: 0.0219 - acc: 0.9932 - val_loss: 0.0331 - val_acc: 0.9907\n",
      "Epoch 10/10\n",
      "60000/60000 [==============================] - 47s 788us/step - loss: 0.0199 - acc: 0.9933 - val_loss: 0.0369 - val_acc: 0.9905\n"
     ]
    },
    {
     "data": {
      "text/plain": [
       "<keras.callbacks.History at 0x7ff48e0d4150>"
      ]
     },
     "execution_count": 16,
     "metadata": {},
     "output_type": "execute_result"
    }
   ],
   "source": [
    "#enfim, treinando o modelo\n",
    "modelo.fit(x_treino, y_treino, batch_size=200, epochs=10, validation_data=(x_teste, y_teste), verbose=1)"
   ]
  },
  {
   "cell_type": "code",
   "execution_count": null,
   "metadata": {},
   "outputs": [],
   "source": []
  }
 ],
 "metadata": {
  "kernelspec": {
   "display_name": "Python 2",
   "language": "python",
   "name": "python2"
  },
  "language_info": {
   "codemirror_mode": {
    "name": "ipython",
    "version": 2
   },
   "file_extension": ".py",
   "mimetype": "text/x-python",
   "name": "python",
   "nbconvert_exporter": "python",
   "pygments_lexer": "ipython2",
   "version": "2.7.16"
  }
 },
 "nbformat": 4,
 "nbformat_minor": 2
}
