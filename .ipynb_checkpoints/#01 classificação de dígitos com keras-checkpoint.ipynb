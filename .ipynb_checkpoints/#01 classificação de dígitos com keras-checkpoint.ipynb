{
 "cells": [
  {
   "cell_type": "code",
   "execution_count": 144,
   "metadata": {},
   "outputs": [],
   "source": [
    "import warnings\n",
    "warnings.filterwarnings('ignore')\n",
    "import keras\n",
    "from keras.datasets import mnist"
   ]
  },
  {
   "cell_type": "code",
   "execution_count": 145,
   "metadata": {},
   "outputs": [],
   "source": [
    "(x_treino, y_treino),(x_teste, y_teste) = mnist.load_data()"
   ]
  },
  {
   "cell_type": "code",
   "execution_count": 146,
   "metadata": {},
   "outputs": [
    {
     "data": {
      "text/plain": [
       "array([5, 0, 4, ..., 5, 6, 8], dtype=uint8)"
      ]
     },
     "execution_count": 146,
     "metadata": {},
     "output_type": "execute_result"
    }
   ],
   "source": [
    "y_treino"
   ]
  },
  {
   "cell_type": "code",
   "execution_count": 147,
   "metadata": {},
   "outputs": [],
   "source": [
    "from keras.utils import np_utils"
   ]
  },
  {
   "cell_type": "code",
   "execution_count": 148,
   "metadata": {},
   "outputs": [],
   "source": [
    "y_treino_convertido = np_utils.to_categorical(y_treino)\n",
    "y_teste_convertido = np_utils.to_categorical(y_teste)"
   ]
  },
  {
   "cell_type": "code",
   "execution_count": 149,
   "metadata": {},
   "outputs": [
    {
     "data": {
      "text/plain": [
       "array([[0., 0., 0., ..., 0., 0., 0.],\n",
       "       [1., 0., 0., ..., 0., 0., 0.],\n",
       "       [0., 0., 0., ..., 0., 0., 0.],\n",
       "       ...,\n",
       "       [0., 0., 0., ..., 0., 0., 0.],\n",
       "       [0., 0., 0., ..., 0., 0., 0.],\n",
       "       [0., 0., 0., ..., 0., 1., 0.]], dtype=float32)"
      ]
     },
     "execution_count": 149,
     "metadata": {},
     "output_type": "execute_result"
    }
   ],
   "source": [
    "y_treino_convertido #verificando se converteu corretamente"
   ]
  },
  {
   "cell_type": "code",
   "execution_count": 150,
   "metadata": {},
   "outputs": [
    {
     "data": {
      "text/plain": [
       "<matplotlib.image.AxesImage at 0x7feef9987f10>"
      ]
     },
     "execution_count": 150,
     "metadata": {},
     "output_type": "execute_result"
    },
    {
     "data": {
      "image/png": "[encoded data removed]",
      "text/plain": [
       "<Figure size 432x288 with 1 Axes>"
      ]
     },
     "metadata": {
      "needs_background": "light"
     },
     "output_type": "display_data"
    }
   ],
   "source": [
    "import matplotlib.pyplot as plt\n",
    "plt.imshow(x_treino[0], cmap='gray') #imprimindo uma das amostras"
   ]
  },
  {
   "cell_type": "markdown",
   "metadata": {},
   "source": [
    "<b>Reshape: Colocando as imagens (amostras) no formato de única linha</b>"
   ]
  },
  {
   "cell_type": "code",
   "execution_count": 151,
   "metadata": {},
   "outputs": [],
   "source": [
    "x_treino_remodelado = x_treino.reshape((60000,784))\n",
    "x_teste_remodelado = x_teste.reshape((10000,784))"
   ]
  },
  {
   "cell_type": "code",
   "execution_count": 152,
   "metadata": {},
   "outputs": [
    {
     "data": {
      "text/plain": [
       "(60000, 784)"
      ]
     },
     "execution_count": 152,
     "metadata": {},
     "output_type": "execute_result"
    }
   ],
   "source": [
    "x_treino_remodelado.shape #testando se deu certo"
   ]
  },
  {
   "cell_type": "markdown",
   "metadata": {},
   "source": [
    "<b>Normalizando os dados (entre 0 e 1):</b>"
   ]
  },
  {
   "cell_type": "code",
   "execution_count": 153,
   "metadata": {},
   "outputs": [],
   "source": [
    "x_teste_normalizado = x_teste_remodelado.astype('float32')/255\n",
    "x_treino_normalizado = x_treino_remodelado.astype('float32')/255"
   ]
  },
  {
   "cell_type": "code",
   "execution_count": 154,
   "metadata": {},
   "outputs": [
    {
     "data": {
      "text/plain": [
       "array([[0., 0., 0., ..., 0., 0., 0.],\n",
       "       [0., 0., 0., ..., 0., 0., 0.],\n",
       "       [0., 0., 0., ..., 0., 0., 0.],\n",
       "       ...,\n",
       "       [0., 0., 0., ..., 0., 0., 0.],\n",
       "       [0., 0., 0., ..., 0., 0., 0.],\n",
       "       [0., 0., 0., ..., 0., 0., 0.]], dtype=float32)"
      ]
     },
     "execution_count": 154,
     "metadata": {},
     "output_type": "execute_result"
    }
   ],
   "source": [
    "x_teste_normalizado #verificando se due certo"
   ]
  },
  {
   "cell_type": "markdown",
   "metadata": {},
   "source": [
    "<h3>Criando a minha rede...</h3>"
   ]
  },
  {
   "cell_type": "code",
   "execution_count": 155,
   "metadata": {},
   "outputs": [],
   "source": [
    "from keras.models import Sequential\n",
    "from keras.layers import Dense, Activation"
   ]
  },
  {
   "cell_type": "code",
   "execution_count": 156,
   "metadata": {},
   "outputs": [],
   "source": [
    "modelo = Sequential()\n",
    "modelo.add(Dense(30, input_dim=784, kernel_initializer='normal', activation='relu')) #entrada e primeira camada\n",
    "modelo.add(Dense(30, kernel_initializer='normal', activation='relu')) #segunda camada\n",
    "modelo.add(Dense(10, kernel_initializer='normal', activation='softmax')) #saída"
   ]
  },
  {
   "cell_type": "code",
   "execution_count": 157,
   "metadata": {},
   "outputs": [],
   "source": [
    "from keras.optimizers import SGD"
   ]
  },
  {
   "cell_type": "code",
   "execution_count": 158,
   "metadata": {},
   "outputs": [],
   "source": [
    "otimizador = SGD()"
   ]
  },
  {
   "cell_type": "code",
   "execution_count": 159,
   "metadata": {},
   "outputs": [
    {
     "name": "stdout",
     "output_type": "stream",
     "text": [
      "Train on 60000 samples, validate on 10000 samples\n",
      "Epoch 1/200\n",
      "60000/60000 [==============================] - 1s 22us/step - loss: 2.2899 - acc: 0.2050 - val_loss: 2.2651 - val_acc: 0.2542\n",
      "Epoch 2/200\n",
      "60000/60000 [==============================] - 1s 20us/step - loss: 2.1130 - acc: 0.3122 - val_loss: 1.7799 - val_acc: 0.4672\n",
      "Epoch 3/200\n",
      "60000/60000 [==============================] - 1s 20us/step - loss: 1.2984 - acc: 0.6165 - val_loss: 0.8921 - val_acc: 0.7368\n",
      "Epoch 4/200\n",
      "60000/60000 [==============================] - 1s 18us/step - loss: 0.7356 - acc: 0.7789 - val_loss: 0.6093 - val_acc: 0.8128\n",
      "Epoch 5/200\n",
      "60000/60000 [==============================] - 1s 17us/step - loss: 0.5648 - acc: 0.8335 - val_loss: 0.5042 - val_acc: 0.8526\n",
      "Epoch 6/200\n",
      "60000/60000 [==============================] - 1s 19us/step - loss: 0.4850 - acc: 0.8594 - val_loss: 0.4463 - val_acc: 0.8684\n",
      "Epoch 7/200\n",
      "60000/60000 [==============================] - 2s 27us/step - loss: 0.4362 - acc: 0.8743 - val_loss: 0.4077 - val_acc: 0.8830\n",
      "Epoch 8/200\n",
      "60000/60000 [==============================] - 1s 20us/step - loss: 0.4040 - acc: 0.8840 - val_loss: 0.3816 - val_acc: 0.8886\n",
      "Epoch 9/200\n",
      "60000/60000 [==============================] - 1s 19us/step - loss: 0.3822 - acc: 0.8902 - val_loss: 0.3621 - val_acc: 0.8947\n",
      "Epoch 10/200\n",
      "60000/60000 [==============================] - 1s 23us/step - loss: 0.3653 - acc: 0.8954 - val_loss: 0.3486 - val_acc: 0.8982\n",
      "Epoch 11/200\n",
      "60000/60000 [==============================] - 1s 19us/step - loss: 0.3518 - acc: 0.8991 - val_loss: 0.3369 - val_acc: 0.9013\n",
      "Epoch 12/200\n",
      "60000/60000 [==============================] - 2s 27us/step - loss: 0.3394 - acc: 0.9030 - val_loss: 0.3258 - val_acc: 0.9044\n",
      "Epoch 13/200\n",
      "60000/60000 [==============================] - 1s 24us/step - loss: 0.3285 - acc: 0.9060 - val_loss: 0.3156 - val_acc: 0.9077\n",
      "Epoch 14/200\n",
      "60000/60000 [==============================] - 1s 23us/step - loss: 0.3180 - acc: 0.9083 - val_loss: 0.3059 - val_acc: 0.9097\n",
      "Epoch 15/200\n",
      "60000/60000 [==============================] - 2s 27us/step - loss: 0.3080 - acc: 0.9111 - val_loss: 0.2983 - val_acc: 0.9119\n",
      "Epoch 16/200\n",
      "60000/60000 [==============================] - 1s 24us/step - loss: 0.2983 - acc: 0.9140 - val_loss: 0.2881 - val_acc: 0.9160\n",
      "Epoch 17/200\n",
      "60000/60000 [==============================] - 2s 29us/step - loss: 0.2889 - acc: 0.9176 - val_loss: 0.2796 - val_acc: 0.9178\n",
      "Epoch 18/200\n",
      "60000/60000 [==============================] - 2s 32us/step - loss: 0.2799 - acc: 0.9204 - val_loss: 0.2722 - val_acc: 0.9206\n",
      "Epoch 19/200\n",
      "60000/60000 [==============================] - 2s 36us/step - loss: 0.2715 - acc: 0.9225 - val_loss: 0.2648 - val_acc: 0.9242\n",
      "Epoch 20/200\n",
      "60000/60000 [==============================] - 1s 20us/step - loss: 0.2633 - acc: 0.9243 - val_loss: 0.2556 - val_acc: 0.9249\n",
      "Epoch 21/200\n",
      "60000/60000 [==============================] - 2s 30us/step - loss: 0.2553 - acc: 0.9271 - val_loss: 0.2506 - val_acc: 0.9274\n",
      "Epoch 22/200\n",
      "60000/60000 [==============================] - 2s 26us/step - loss: 0.2480 - acc: 0.9283 - val_loss: 0.2415 - val_acc: 0.9309\n",
      "Epoch 23/200\n",
      "60000/60000 [==============================] - 2s 28us/step - loss: 0.2409 - acc: 0.9306 - val_loss: 0.2345 - val_acc: 0.9330\n",
      "Epoch 24/200\n",
      "60000/60000 [==============================] - 2s 34us/step - loss: 0.2343 - acc: 0.9324 - val_loss: 0.2285 - val_acc: 0.9351\n",
      "Epoch 25/200\n",
      "60000/60000 [==============================] - 2s 27us/step - loss: 0.2280 - acc: 0.9341 - val_loss: 0.2242 - val_acc: 0.9370\n",
      "Epoch 26/200\n",
      "60000/60000 [==============================] - 2s 30us/step - loss: 0.2222 - acc: 0.9359 - val_loss: 0.2178 - val_acc: 0.9371\n",
      "Epoch 27/200\n",
      "60000/60000 [==============================] - 1s 24us/step - loss: 0.2168 - acc: 0.9377 - val_loss: 0.2128 - val_acc: 0.9388\n",
      "Epoch 28/200\n",
      "60000/60000 [==============================] - 2s 29us/step - loss: 0.2116 - acc: 0.9393 - val_loss: 0.2101 - val_acc: 0.9408\n",
      "Epoch 29/200\n",
      "60000/60000 [==============================] - 1s 24us/step - loss: 0.2066 - acc: 0.9407 - val_loss: 0.2052 - val_acc: 0.9408\n",
      "Epoch 30/200\n",
      "60000/60000 [==============================] - 1s 24us/step - loss: 0.2023 - acc: 0.9413 - val_loss: 0.1999 - val_acc: 0.9425\n",
      "Epoch 31/200\n",
      "60000/60000 [==============================] - 2s 29us/step - loss: 0.1982 - acc: 0.9428 - val_loss: 0.1961 - val_acc: 0.9440\n",
      "Epoch 32/200\n",
      "60000/60000 [==============================] - 2s 28us/step - loss: 0.1940 - acc: 0.9440 - val_loss: 0.1930 - val_acc: 0.9454\n",
      "Epoch 33/200\n",
      "60000/60000 [==============================] - 2s 33us/step - loss: 0.1904 - acc: 0.9451 - val_loss: 0.1893 - val_acc: 0.9456\n",
      "Epoch 34/200\n",
      "60000/60000 [==============================] - 2s 31us/step - loss: 0.1868 - acc: 0.9456 - val_loss: 0.1869 - val_acc: 0.9475\n",
      "Epoch 35/200\n",
      "60000/60000 [==============================] - 2s 29us/step - loss: 0.1836 - acc: 0.9468 - val_loss: 0.1838 - val_acc: 0.9470\n",
      "Epoch 36/200\n",
      "60000/60000 [==============================] - 2s 27us/step - loss: 0.1804 - acc: 0.9476 - val_loss: 0.1806 - val_acc: 0.9487\n",
      "Epoch 37/200\n",
      "60000/60000 [==============================] - 2s 25us/step - loss: 0.1771 - acc: 0.9488 - val_loss: 0.1796 - val_acc: 0.9481\n",
      "Epoch 38/200\n",
      "60000/60000 [==============================] - 2s 35us/step - loss: 0.1747 - acc: 0.9491 - val_loss: 0.1765 - val_acc: 0.9496\n",
      "Epoch 39/200\n",
      "60000/60000 [==============================] - 2s 35us/step - loss: 0.1717 - acc: 0.9499 - val_loss: 0.1761 - val_acc: 0.9497\n",
      "Epoch 40/200\n",
      "60000/60000 [==============================] - 2s 35us/step - loss: 0.1689 - acc: 0.9506 - val_loss: 0.1733 - val_acc: 0.9499\n",
      "Epoch 41/200\n",
      "60000/60000 [==============================] - 2s 29us/step - loss: 0.1665 - acc: 0.9515 - val_loss: 0.1706 - val_acc: 0.9500\n",
      "Epoch 42/200\n",
      "60000/60000 [==============================] - 2s 28us/step - loss: 0.1639 - acc: 0.9524 - val_loss: 0.1706 - val_acc: 0.9511\n",
      "Epoch 43/200\n",
      "60000/60000 [==============================] - 2s 27us/step - loss: 0.1617 - acc: 0.9525 - val_loss: 0.1671 - val_acc: 0.9518\n",
      "Epoch 44/200\n",
      "60000/60000 [==============================] - 1s 24us/step - loss: 0.1591 - acc: 0.9535 - val_loss: 0.1667 - val_acc: 0.9509\n",
      "Epoch 45/200\n",
      "60000/60000 [==============================] - 1s 24us/step - loss: 0.1569 - acc: 0.9543 - val_loss: 0.1633 - val_acc: 0.9520\n",
      "Epoch 46/200\n",
      "60000/60000 [==============================] - 2s 26us/step - loss: 0.1546 - acc: 0.9549 - val_loss: 0.1624 - val_acc: 0.9528\n",
      "Epoch 47/200\n",
      "60000/60000 [==============================] - 1s 18us/step - loss: 0.1526 - acc: 0.9556 - val_loss: 0.1608 - val_acc: 0.9524\n",
      "Epoch 48/200\n",
      "60000/60000 [==============================] - 1s 20us/step - loss: 0.1503 - acc: 0.9563 - val_loss: 0.1610 - val_acc: 0.9529\n",
      "Epoch 49/200\n",
      "60000/60000 [==============================] - 1s 21us/step - loss: 0.1485 - acc: 0.9566 - val_loss: 0.1567 - val_acc: 0.9547\n",
      "Epoch 50/200\n",
      "60000/60000 [==============================] - 1s 21us/step - loss: 0.1464 - acc: 0.9577 - val_loss: 0.1563 - val_acc: 0.9543\n",
      "Epoch 51/200\n",
      "60000/60000 [==============================] - 1s 24us/step - loss: 0.1446 - acc: 0.9580 - val_loss: 0.1556 - val_acc: 0.9545\n",
      "Epoch 52/200\n",
      "60000/60000 [==============================] - 2s 29us/step - loss: 0.1427 - acc: 0.9587 - val_loss: 0.1552 - val_acc: 0.9539\n",
      "Epoch 53/200\n",
      "60000/60000 [==============================] - 1s 17us/step - loss: 0.1408 - acc: 0.9595 - val_loss: 0.1518 - val_acc: 0.9549\n",
      "Epoch 54/200\n",
      "60000/60000 [==============================] - 1s 17us/step - loss: 0.1391 - acc: 0.9597 - val_loss: 0.1541 - val_acc: 0.9551\n",
      "Epoch 55/200\n",
      "60000/60000 [==============================] - 1s 17us/step - loss: 0.1374 - acc: 0.9602 - val_loss: 0.1498 - val_acc: 0.9560\n",
      "Epoch 56/200\n",
      "60000/60000 [==============================] - 1s 18us/step - loss: 0.1357 - acc: 0.9609 - val_loss: 0.1490 - val_acc: 0.9556\n",
      "Epoch 57/200\n",
      "60000/60000 [==============================] - 1s 16us/step - loss: 0.1339 - acc: 0.9613 - val_loss: 0.1493 - val_acc: 0.9555\n",
      "Epoch 58/200\n",
      "60000/60000 [==============================] - 1s 16us/step - loss: 0.1324 - acc: 0.9614 - val_loss: 0.1484 - val_acc: 0.9565\n",
      "Epoch 59/200\n"
     ]
    },
    {
     "name": "stdout",
     "output_type": "stream",
     "text": [
      "60000/60000 [==============================] - 1s 21us/step - loss: 0.1307 - acc: 0.9621 - val_loss: 0.1448 - val_acc: 0.9574\n",
      "Epoch 60/200\n",
      "60000/60000 [==============================] - 1s 24us/step - loss: 0.1293 - acc: 0.9626 - val_loss: 0.1447 - val_acc: 0.9575\n",
      "Epoch 61/200\n",
      "60000/60000 [==============================] - 2s 26us/step - loss: 0.1276 - acc: 0.9629 - val_loss: 0.1474 - val_acc: 0.9565\n",
      "Epoch 62/200\n",
      "60000/60000 [==============================] - 1s 17us/step - loss: 0.1264 - acc: 0.9634 - val_loss: 0.1421 - val_acc: 0.9580\n",
      "Epoch 63/200\n",
      "60000/60000 [==============================] - 2s 25us/step - loss: 0.1246 - acc: 0.9641 - val_loss: 0.1431 - val_acc: 0.9578\n",
      "Epoch 64/200\n",
      "60000/60000 [==============================] - 1s 16us/step - loss: 0.1230 - acc: 0.9646 - val_loss: 0.1413 - val_acc: 0.9577\n",
      "Epoch 65/200\n",
      "60000/60000 [==============================] - 1s 17us/step - loss: 0.1217 - acc: 0.9648 - val_loss: 0.1409 - val_acc: 0.9584\n",
      "Epoch 66/200\n",
      "60000/60000 [==============================] - 1s 18us/step - loss: 0.1206 - acc: 0.9649 - val_loss: 0.1390 - val_acc: 0.9587\n",
      "Epoch 67/200\n",
      "60000/60000 [==============================] - 1s 24us/step - loss: 0.1191 - acc: 0.9652 - val_loss: 0.1380 - val_acc: 0.9595\n",
      "Epoch 68/200\n",
      "60000/60000 [==============================] - 1s 17us/step - loss: 0.1178 - acc: 0.9660 - val_loss: 0.1377 - val_acc: 0.9597\n",
      "Epoch 69/200\n",
      "60000/60000 [==============================] - 1s 20us/step - loss: 0.1167 - acc: 0.9664 - val_loss: 0.1355 - val_acc: 0.9597\n",
      "Epoch 70/200\n",
      "60000/60000 [==============================] - 1s 22us/step - loss: 0.1155 - acc: 0.9668 - val_loss: 0.1357 - val_acc: 0.9600\n",
      "Epoch 71/200\n",
      "60000/60000 [==============================] - 2s 30us/step - loss: 0.1139 - acc: 0.9675 - val_loss: 0.1327 - val_acc: 0.9601\n",
      "Epoch 72/200\n",
      "60000/60000 [==============================] - 1s 18us/step - loss: 0.1127 - acc: 0.9675 - val_loss: 0.1342 - val_acc: 0.9599\n",
      "Epoch 73/200\n",
      "60000/60000 [==============================] - 2s 35us/step - loss: 0.1115 - acc: 0.9684 - val_loss: 0.1321 - val_acc: 0.9609\n",
      "Epoch 74/200\n",
      "60000/60000 [==============================] - 2s 26us/step - loss: 0.1104 - acc: 0.9689 - val_loss: 0.1314 - val_acc: 0.9601\n",
      "Epoch 75/200\n",
      "60000/60000 [==============================] - 2s 26us/step - loss: 0.1092 - acc: 0.9690 - val_loss: 0.1317 - val_acc: 0.9605\n",
      "Epoch 76/200\n",
      "60000/60000 [==============================] - 1s 17us/step - loss: 0.1081 - acc: 0.9692 - val_loss: 0.1303 - val_acc: 0.9614\n",
      "Epoch 77/200\n",
      "60000/60000 [==============================] - 1s 20us/step - loss: 0.1069 - acc: 0.9692 - val_loss: 0.1293 - val_acc: 0.9621\n",
      "Epoch 78/200\n",
      "60000/60000 [==============================] - 1s 20us/step - loss: 0.1059 - acc: 0.9699 - val_loss: 0.1290 - val_acc: 0.9614\n",
      "Epoch 79/200\n",
      "60000/60000 [==============================] - 1s 20us/step - loss: 0.1049 - acc: 0.9699 - val_loss: 0.1280 - val_acc: 0.9619\n",
      "Epoch 80/200\n",
      "60000/60000 [==============================] - 1s 20us/step - loss: 0.1037 - acc: 0.9700 - val_loss: 0.1266 - val_acc: 0.9624\n",
      "Epoch 81/200\n",
      "60000/60000 [==============================] - 1s 17us/step - loss: 0.1027 - acc: 0.9704 - val_loss: 0.1274 - val_acc: 0.9616\n",
      "Epoch 82/200\n",
      "60000/60000 [==============================] - 1s 24us/step - loss: 0.1017 - acc: 0.9706 - val_loss: 0.1266 - val_acc: 0.9624\n",
      "Epoch 83/200\n",
      "60000/60000 [==============================] - 1s 20us/step - loss: 0.1007 - acc: 0.9710 - val_loss: 0.1264 - val_acc: 0.9618\n",
      "Epoch 84/200\n",
      "60000/60000 [==============================] - 1s 21us/step - loss: 0.0999 - acc: 0.9710 - val_loss: 0.1248 - val_acc: 0.9623\n",
      "Epoch 85/200\n",
      "60000/60000 [==============================] - 1s 23us/step - loss: 0.0987 - acc: 0.9714 - val_loss: 0.1245 - val_acc: 0.9624\n",
      "Epoch 86/200\n",
      "60000/60000 [==============================] - 1s 18us/step - loss: 0.0977 - acc: 0.9723 - val_loss: 0.1268 - val_acc: 0.9612\n",
      "Epoch 87/200\n",
      "60000/60000 [==============================] - 1s 18us/step - loss: 0.0969 - acc: 0.9720 - val_loss: 0.1227 - val_acc: 0.9618\n",
      "Epoch 88/200\n",
      "60000/60000 [==============================] - 1s 20us/step - loss: 0.0961 - acc: 0.9720 - val_loss: 0.1224 - val_acc: 0.9628\n",
      "Epoch 89/200\n",
      "60000/60000 [==============================] - 1s 20us/step - loss: 0.0951 - acc: 0.9725 - val_loss: 0.1224 - val_acc: 0.9627\n",
      "Epoch 90/200\n",
      "60000/60000 [==============================] - 1s 19us/step - loss: 0.0944 - acc: 0.9724 - val_loss: 0.1217 - val_acc: 0.9629\n",
      "Epoch 91/200\n",
      "60000/60000 [==============================] - 1s 19us/step - loss: 0.0935 - acc: 0.9729 - val_loss: 0.1228 - val_acc: 0.9627\n",
      "Epoch 92/200\n",
      "60000/60000 [==============================] - 1s 18us/step - loss: 0.0927 - acc: 0.9734 - val_loss: 0.1220 - val_acc: 0.9620\n",
      "Epoch 93/200\n",
      "60000/60000 [==============================] - 1s 20us/step - loss: 0.0918 - acc: 0.9737 - val_loss: 0.1203 - val_acc: 0.9630\n",
      "Epoch 94/200\n",
      "60000/60000 [==============================] - 1s 18us/step - loss: 0.0910 - acc: 0.9743 - val_loss: 0.1193 - val_acc: 0.9629\n",
      "Epoch 95/200\n",
      "60000/60000 [==============================] - 1s 19us/step - loss: 0.0902 - acc: 0.9739 - val_loss: 0.1204 - val_acc: 0.9630\n",
      "Epoch 96/200\n",
      "60000/60000 [==============================] - 1s 18us/step - loss: 0.0894 - acc: 0.9742 - val_loss: 0.1200 - val_acc: 0.9627\n",
      "Epoch 97/200\n",
      "60000/60000 [==============================] - 1s 20us/step - loss: 0.0885 - acc: 0.9743 - val_loss: 0.1197 - val_acc: 0.9639\n",
      "Epoch 98/200\n",
      "60000/60000 [==============================] - 1s 19us/step - loss: 0.0877 - acc: 0.9745 - val_loss: 0.1209 - val_acc: 0.9632\n",
      "Epoch 99/200\n",
      "60000/60000 [==============================] - 1s 18us/step - loss: 0.0871 - acc: 0.9745 - val_loss: 0.1176 - val_acc: 0.9631\n",
      "Epoch 100/200\n",
      "60000/60000 [==============================] - 1s 18us/step - loss: 0.0863 - acc: 0.9749 - val_loss: 0.1187 - val_acc: 0.9639\n",
      "Epoch 101/200\n",
      "60000/60000 [==============================] - 1s 18us/step - loss: 0.0857 - acc: 0.9752 - val_loss: 0.1176 - val_acc: 0.9637\n",
      "Epoch 102/200\n",
      "60000/60000 [==============================] - 1s 19us/step - loss: 0.0849 - acc: 0.9756 - val_loss: 0.1179 - val_acc: 0.9627\n",
      "Epoch 103/200\n",
      "60000/60000 [==============================] - 1s 18us/step - loss: 0.0842 - acc: 0.9758 - val_loss: 0.1169 - val_acc: 0.9637\n",
      "Epoch 104/200\n",
      "60000/60000 [==============================] - 1s 22us/step - loss: 0.0834 - acc: 0.9760 - val_loss: 0.1158 - val_acc: 0.9645\n",
      "Epoch 105/200\n",
      "60000/60000 [==============================] - 1s 18us/step - loss: 0.0828 - acc: 0.9758 - val_loss: 0.1163 - val_acc: 0.9643\n",
      "Epoch 106/200\n",
      "60000/60000 [==============================] - 1s 22us/step - loss: 0.0821 - acc: 0.9762 - val_loss: 0.1152 - val_acc: 0.9637\n",
      "Epoch 107/200\n",
      "60000/60000 [==============================] - 1s 18us/step - loss: 0.0813 - acc: 0.9765 - val_loss: 0.1137 - val_acc: 0.9644\n",
      "Epoch 108/200\n",
      "60000/60000 [==============================] - 2s 26us/step - loss: 0.0808 - acc: 0.9767 - val_loss: 0.1161 - val_acc: 0.9645\n",
      "Epoch 109/200\n",
      "60000/60000 [==============================] - 2s 31us/step - loss: 0.0799 - acc: 0.9770 - val_loss: 0.1154 - val_acc: 0.9633\n",
      "Epoch 110/200\n",
      "60000/60000 [==============================] - 2s 32us/step - loss: 0.0795 - acc: 0.9772 - val_loss: 0.1151 - val_acc: 0.9639\n",
      "Epoch 111/200\n",
      "60000/60000 [==============================] - 2s 32us/step - loss: 0.0788 - acc: 0.9771 - val_loss: 0.1140 - val_acc: 0.9653\n",
      "Epoch 112/200\n",
      "60000/60000 [==============================] - 1s 22us/step - loss: 0.0779 - acc: 0.9777 - val_loss: 0.1140 - val_acc: 0.9643\n",
      "Epoch 113/200\n",
      "60000/60000 [==============================] - 1s 25us/step - loss: 0.0776 - acc: 0.9782 - val_loss: 0.1143 - val_acc: 0.9642\n",
      "Epoch 114/200\n",
      "60000/60000 [==============================] - 1s 19us/step - loss: 0.0767 - acc: 0.9778 - val_loss: 0.1129 - val_acc: 0.9647\n",
      "Epoch 115/200\n",
      "60000/60000 [==============================] - 1s 21us/step - loss: 0.0764 - acc: 0.9781 - val_loss: 0.1125 - val_acc: 0.9663\n",
      "Epoch 116/200\n",
      "60000/60000 [==============================] - 1s 14us/step - loss: 0.0755 - acc: 0.9782 - val_loss: 0.1137 - val_acc: 0.9647\n",
      "Epoch 117/200\n",
      "60000/60000 [==============================] - 1s 14us/step - loss: 0.0750 - acc: 0.9787 - val_loss: 0.1122 - val_acc: 0.9654\n"
     ]
    },
    {
     "name": "stdout",
     "output_type": "stream",
     "text": [
      "Epoch 118/200\n",
      "60000/60000 [==============================] - 1s 14us/step - loss: 0.0745 - acc: 0.9785 - val_loss: 0.1120 - val_acc: 0.9659\n",
      "Epoch 119/200\n",
      "60000/60000 [==============================] - 1s 14us/step - loss: 0.0738 - acc: 0.9790 - val_loss: 0.1119 - val_acc: 0.9649\n",
      "Epoch 120/200\n",
      "60000/60000 [==============================] - 1s 14us/step - loss: 0.0732 - acc: 0.9790 - val_loss: 0.1125 - val_acc: 0.9651\n",
      "Epoch 121/200\n",
      "60000/60000 [==============================] - 1s 14us/step - loss: 0.0726 - acc: 0.9793 - val_loss: 0.1130 - val_acc: 0.9639\n",
      "Epoch 122/200\n",
      "60000/60000 [==============================] - 1s 14us/step - loss: 0.0720 - acc: 0.9795 - val_loss: 0.1106 - val_acc: 0.9657\n",
      "Epoch 123/200\n",
      "60000/60000 [==============================] - 1s 14us/step - loss: 0.0717 - acc: 0.9795 - val_loss: 0.1116 - val_acc: 0.9650\n",
      "Epoch 124/200\n",
      "60000/60000 [==============================] - 2s 26us/step - loss: 0.0710 - acc: 0.9797 - val_loss: 0.1102 - val_acc: 0.9655\n",
      "Epoch 125/200\n",
      "60000/60000 [==============================] - 2s 35us/step - loss: 0.0706 - acc: 0.9799 - val_loss: 0.1119 - val_acc: 0.9641\n",
      "Epoch 126/200\n",
      "60000/60000 [==============================] - 1s 24us/step - loss: 0.0698 - acc: 0.9800 - val_loss: 0.1100 - val_acc: 0.9653\n",
      "Epoch 127/200\n",
      "60000/60000 [==============================] - 1s 24us/step - loss: 0.0695 - acc: 0.9801 - val_loss: 0.1112 - val_acc: 0.9648\n",
      "Epoch 128/200\n",
      "60000/60000 [==============================] - 1s 20us/step - loss: 0.0690 - acc: 0.9804 - val_loss: 0.1109 - val_acc: 0.9650\n",
      "Epoch 129/200\n",
      "60000/60000 [==============================] - 1s 24us/step - loss: 0.0684 - acc: 0.9804 - val_loss: 0.1100 - val_acc: 0.9655\n",
      "Epoch 130/200\n",
      "60000/60000 [==============================] - 1s 20us/step - loss: 0.0676 - acc: 0.9807 - val_loss: 0.1104 - val_acc: 0.9654\n",
      "Epoch 131/200\n",
      "60000/60000 [==============================] - 2s 29us/step - loss: 0.0673 - acc: 0.9807 - val_loss: 0.1106 - val_acc: 0.9663\n",
      "Epoch 132/200\n",
      "60000/60000 [==============================] - 2s 27us/step - loss: 0.0668 - acc: 0.9810 - val_loss: 0.1098 - val_acc: 0.9661\n",
      "Epoch 133/200\n",
      "60000/60000 [==============================] - 1s 20us/step - loss: 0.0663 - acc: 0.9810 - val_loss: 0.1105 - val_acc: 0.9657\n",
      "Epoch 134/200\n",
      "60000/60000 [==============================] - 1s 23us/step - loss: 0.0658 - acc: 0.9813 - val_loss: 0.1108 - val_acc: 0.9663\n",
      "Epoch 135/200\n",
      "60000/60000 [==============================] - 1s 22us/step - loss: 0.0653 - acc: 0.9815 - val_loss: 0.1107 - val_acc: 0.9653\n",
      "Epoch 136/200\n",
      "60000/60000 [==============================] - 1s 20us/step - loss: 0.0650 - acc: 0.9812 - val_loss: 0.1119 - val_acc: 0.9650\n",
      "Epoch 137/200\n",
      "60000/60000 [==============================] - 1s 21us/step - loss: 0.0644 - acc: 0.9816 - val_loss: 0.1094 - val_acc: 0.9659\n",
      "Epoch 138/200\n",
      "60000/60000 [==============================] - 1s 25us/step - loss: 0.0639 - acc: 0.9820 - val_loss: 0.1095 - val_acc: 0.9654\n",
      "Epoch 139/200\n",
      "60000/60000 [==============================] - 1s 19us/step - loss: 0.0635 - acc: 0.9818 - val_loss: 0.1101 - val_acc: 0.9652\n",
      "Epoch 140/200\n",
      "60000/60000 [==============================] - 1s 20us/step - loss: 0.0629 - acc: 0.9824 - val_loss: 0.1104 - val_acc: 0.9651\n",
      "Epoch 141/200\n",
      "60000/60000 [==============================] - 1s 21us/step - loss: 0.0626 - acc: 0.9823 - val_loss: 0.1093 - val_acc: 0.9663\n",
      "Epoch 142/200\n",
      "60000/60000 [==============================] - 1s 19us/step - loss: 0.0619 - acc: 0.9823 - val_loss: 0.1117 - val_acc: 0.9652\n",
      "Epoch 143/200\n",
      "60000/60000 [==============================] - 1s 25us/step - loss: 0.0617 - acc: 0.9826 - val_loss: 0.1085 - val_acc: 0.9663\n",
      "Epoch 144/200\n",
      "60000/60000 [==============================] - 1s 19us/step - loss: 0.0610 - acc: 0.9826 - val_loss: 0.1099 - val_acc: 0.9658\n",
      "Epoch 145/200\n",
      "60000/60000 [==============================] - 1s 19us/step - loss: 0.0607 - acc: 0.9828 - val_loss: 0.1101 - val_acc: 0.9663\n",
      "Epoch 146/200\n",
      "60000/60000 [==============================] - 1s 19us/step - loss: 0.0603 - acc: 0.9829 - val_loss: 0.1101 - val_acc: 0.9663\n",
      "Epoch 147/200\n",
      "60000/60000 [==============================] - 1s 19us/step - loss: 0.0598 - acc: 0.9830 - val_loss: 0.1096 - val_acc: 0.9653\n",
      "Epoch 148/200\n",
      "60000/60000 [==============================] - 1s 19us/step - loss: 0.0595 - acc: 0.9832 - val_loss: 0.1109 - val_acc: 0.9653\n",
      "Epoch 149/200\n",
      "60000/60000 [==============================] - 1s 19us/step - loss: 0.0589 - acc: 0.9832 - val_loss: 0.1135 - val_acc: 0.9647\n",
      "Epoch 150/200\n",
      "60000/60000 [==============================] - 1s 19us/step - loss: 0.0584 - acc: 0.9837 - val_loss: 0.1106 - val_acc: 0.9657\n",
      "Epoch 151/200\n",
      "60000/60000 [==============================] - 1s 19us/step - loss: 0.0580 - acc: 0.9833 - val_loss: 0.1086 - val_acc: 0.9663\n",
      "Epoch 152/200\n",
      "60000/60000 [==============================] - 1s 19us/step - loss: 0.0577 - acc: 0.9840 - val_loss: 0.1088 - val_acc: 0.9669\n",
      "Epoch 153/200\n",
      "60000/60000 [==============================] - 1s 19us/step - loss: 0.0573 - acc: 0.9837 - val_loss: 0.1101 - val_acc: 0.9655\n",
      "Epoch 154/200\n",
      "60000/60000 [==============================] - 1s 19us/step - loss: 0.0568 - acc: 0.9839 - val_loss: 0.1094 - val_acc: 0.9660\n",
      "Epoch 155/200\n",
      "60000/60000 [==============================] - 1s 19us/step - loss: 0.0564 - acc: 0.9842 - val_loss: 0.1095 - val_acc: 0.9657\n",
      "Epoch 156/200\n",
      "60000/60000 [==============================] - 1s 19us/step - loss: 0.0560 - acc: 0.9842 - val_loss: 0.1092 - val_acc: 0.9672\n",
      "Epoch 157/200\n",
      "60000/60000 [==============================] - 1s 19us/step - loss: 0.0556 - acc: 0.9844 - val_loss: 0.1092 - val_acc: 0.9657\n",
      "Epoch 158/200\n",
      "60000/60000 [==============================] - 1s 19us/step - loss: 0.0551 - acc: 0.9844 - val_loss: 0.1096 - val_acc: 0.9662\n",
      "Epoch 159/200\n",
      "60000/60000 [==============================] - 1s 19us/step - loss: 0.0548 - acc: 0.9849 - val_loss: 0.1096 - val_acc: 0.9651\n",
      "Epoch 160/200\n",
      "60000/60000 [==============================] - 1s 18us/step - loss: 0.0545 - acc: 0.9846 - val_loss: 0.1083 - val_acc: 0.9661\n",
      "Epoch 161/200\n",
      "60000/60000 [==============================] - 1s 19us/step - loss: 0.0540 - acc: 0.9847 - val_loss: 0.1087 - val_acc: 0.9667\n",
      "Epoch 162/200\n",
      "60000/60000 [==============================] - 1s 19us/step - loss: 0.0536 - acc: 0.9848 - val_loss: 0.1097 - val_acc: 0.9652\n",
      "Epoch 163/200\n",
      "60000/60000 [==============================] - 1s 19us/step - loss: 0.0532 - acc: 0.9853 - val_loss: 0.1086 - val_acc: 0.9665\n",
      "Epoch 164/200\n",
      "60000/60000 [==============================] - 1s 19us/step - loss: 0.0528 - acc: 0.9856 - val_loss: 0.1092 - val_acc: 0.9666\n",
      "Epoch 165/200\n",
      "60000/60000 [==============================] - 1s 19us/step - loss: 0.0523 - acc: 0.9857 - val_loss: 0.1098 - val_acc: 0.9668\n",
      "Epoch 166/200\n",
      "60000/60000 [==============================] - 1s 19us/step - loss: 0.0523 - acc: 0.9852 - val_loss: 0.1091 - val_acc: 0.9665\n",
      "Epoch 167/200\n",
      "60000/60000 [==============================] - 1s 18us/step - loss: 0.0518 - acc: 0.9856 - val_loss: 0.1095 - val_acc: 0.9660\n",
      "Epoch 168/200\n",
      "60000/60000 [==============================] - 1s 18us/step - loss: 0.0511 - acc: 0.9860 - val_loss: 0.1107 - val_acc: 0.9667\n",
      "Epoch 169/200\n",
      "60000/60000 [==============================] - 1s 18us/step - loss: 0.0511 - acc: 0.9859 - val_loss: 0.1099 - val_acc: 0.9663\n",
      "Epoch 170/200\n",
      "60000/60000 [==============================] - 1s 18us/step - loss: 0.0504 - acc: 0.9857 - val_loss: 0.1102 - val_acc: 0.9669\n",
      "Epoch 171/200\n",
      "60000/60000 [==============================] - 1s 19us/step - loss: 0.0502 - acc: 0.9861 - val_loss: 0.1096 - val_acc: 0.9657\n",
      "Epoch 172/200\n",
      "60000/60000 [==============================] - 1s 18us/step - loss: 0.0500 - acc: 0.9862 - val_loss: 0.1090 - val_acc: 0.9671\n",
      "Epoch 173/200\n",
      "60000/60000 [==============================] - 1s 19us/step - loss: 0.0495 - acc: 0.9862 - val_loss: 0.1094 - val_acc: 0.9662\n",
      "Epoch 174/200\n",
      "60000/60000 [==============================] - 1s 19us/step - loss: 0.0491 - acc: 0.9864 - val_loss: 0.1104 - val_acc: 0.9657\n",
      "Epoch 175/200\n",
      "60000/60000 [==============================] - 1s 18us/step - loss: 0.0488 - acc: 0.9864 - val_loss: 0.1103 - val_acc: 0.9663\n",
      "Epoch 176/200\n"
     ]
    },
    {
     "name": "stdout",
     "output_type": "stream",
     "text": [
      "60000/60000 [==============================] - 1s 19us/step - loss: 0.0485 - acc: 0.9864 - val_loss: 0.1101 - val_acc: 0.9664\n",
      "Epoch 177/200\n",
      "60000/60000 [==============================] - 1s 18us/step - loss: 0.0482 - acc: 0.9866 - val_loss: 0.1113 - val_acc: 0.9666\n",
      "Epoch 178/200\n",
      "60000/60000 [==============================] - 1s 19us/step - loss: 0.0478 - acc: 0.9869 - val_loss: 0.1105 - val_acc: 0.9667\n",
      "Epoch 179/200\n",
      "60000/60000 [==============================] - 1s 19us/step - loss: 0.0474 - acc: 0.9872 - val_loss: 0.1094 - val_acc: 0.9667\n",
      "Epoch 180/200\n",
      "60000/60000 [==============================] - 1s 19us/step - loss: 0.0471 - acc: 0.9871 - val_loss: 0.1109 - val_acc: 0.9659\n",
      "Epoch 181/200\n",
      "60000/60000 [==============================] - 1s 18us/step - loss: 0.0468 - acc: 0.9870 - val_loss: 0.1117 - val_acc: 0.9657\n",
      "Epoch 182/200\n",
      "60000/60000 [==============================] - 1s 19us/step - loss: 0.0465 - acc: 0.9871 - val_loss: 0.1125 - val_acc: 0.9662\n",
      "Epoch 183/200\n",
      "60000/60000 [==============================] - 1s 19us/step - loss: 0.0462 - acc: 0.9873 - val_loss: 0.1110 - val_acc: 0.9671\n",
      "Epoch 184/200\n",
      "60000/60000 [==============================] - 1s 19us/step - loss: 0.0456 - acc: 0.9875 - val_loss: 0.1132 - val_acc: 0.9649\n",
      "Epoch 185/200\n",
      "60000/60000 [==============================] - 1s 19us/step - loss: 0.0456 - acc: 0.9876 - val_loss: 0.1103 - val_acc: 0.9657\n",
      "Epoch 186/200\n",
      "60000/60000 [==============================] - 1s 19us/step - loss: 0.0452 - acc: 0.9875 - val_loss: 0.1118 - val_acc: 0.9657\n",
      "Epoch 187/200\n",
      "60000/60000 [==============================] - 1s 19us/step - loss: 0.0447 - acc: 0.9875 - val_loss: 0.1105 - val_acc: 0.9666\n",
      "Epoch 188/200\n",
      "60000/60000 [==============================] - 1s 18us/step - loss: 0.0445 - acc: 0.9879 - val_loss: 0.1108 - val_acc: 0.9669\n",
      "Epoch 189/200\n",
      "60000/60000 [==============================] - 1s 18us/step - loss: 0.0442 - acc: 0.9879 - val_loss: 0.1114 - val_acc: 0.9672\n",
      "Epoch 190/200\n",
      "60000/60000 [==============================] - 1s 19us/step - loss: 0.0438 - acc: 0.9884 - val_loss: 0.1112 - val_acc: 0.9663\n",
      "Epoch 191/200\n",
      "60000/60000 [==============================] - 1s 18us/step - loss: 0.0435 - acc: 0.9879 - val_loss: 0.1110 - val_acc: 0.9665\n",
      "Epoch 192/200\n",
      "60000/60000 [==============================] - 1s 18us/step - loss: 0.0433 - acc: 0.9882 - val_loss: 0.1120 - val_acc: 0.9654\n",
      "Epoch 193/200\n",
      "60000/60000 [==============================] - 1s 19us/step - loss: 0.0429 - acc: 0.9886 - val_loss: 0.1113 - val_acc: 0.9661\n",
      "Epoch 194/200\n",
      "60000/60000 [==============================] - 1s 19us/step - loss: 0.0426 - acc: 0.9887 - val_loss: 0.1108 - val_acc: 0.9668\n",
      "Epoch 195/200\n",
      "60000/60000 [==============================] - 1s 19us/step - loss: 0.0422 - acc: 0.9886 - val_loss: 0.1130 - val_acc: 0.9658\n",
      "Epoch 196/200\n",
      "60000/60000 [==============================] - 1s 19us/step - loss: 0.0419 - acc: 0.9886 - val_loss: 0.1127 - val_acc: 0.9662\n",
      "Epoch 197/200\n",
      "60000/60000 [==============================] - 1s 22us/step - loss: 0.0418 - acc: 0.9886 - val_loss: 0.1113 - val_acc: 0.9674\n",
      "Epoch 198/200\n",
      "60000/60000 [==============================] - 1s 21us/step - loss: 0.0414 - acc: 0.9888 - val_loss: 0.1130 - val_acc: 0.9652\n",
      "Epoch 199/200\n",
      "60000/60000 [==============================] - 1s 21us/step - loss: 0.0412 - acc: 0.9890 - val_loss: 0.1130 - val_acc: 0.9661\n",
      "Epoch 200/200\n",
      "60000/60000 [==============================] - 1s 22us/step - loss: 0.0408 - acc: 0.9894 - val_loss: 0.1135 - val_acc: 0.9658\n"
     ]
    }
   ],
   "source": [
    "modelo.compile(loss='categorical_crossentropy', optimizer=otimizador, metrics=['acc'])\n",
    "historico = modelo.fit(x_treino_normalizado, y_treino_convertido, epochs=200, batch_size=100, validation_data=(x_teste_normalizado, y_teste_convertido), verbose=1) "
   ]
  },
  {
   "cell_type": "code",
   "execution_count": 161,
   "metadata": {},
   "outputs": [],
   "source": [
    "acc_treino = historico.history['acc']\n",
    "acc_teste = historico.history['val_acc']\n",
    "epochs = range(1, len(acc_treino)+1)"
   ]
  },
  {
   "cell_type": "code",
   "execution_count": 162,
   "metadata": {},
   "outputs": [
    {
     "data": {
      "image/png": "[encoded data removed]",
      "text/plain": [
       "<Figure size 432x288 with 1 Axes>"
      ]
     },
     "metadata": {
      "needs_background": "light"
     },
     "output_type": "display_data"
    }
   ],
   "source": [
    "plt.plot(epochs, acc_treino, '-g', \"Acurácia no treino\")\n",
    "plt.plot(epochs, acc_teste, '-b', 'Acurácia no teste')\n",
    "#plt.xlabel(\"epochs\")\n",
    "#plt.ylabel(\"acurácia\")\n",
    "plt.show()"
   ]
  },
  {
   "cell_type": "code",
   "execution_count": null,
   "metadata": {},
   "outputs": [],
   "source": []
  }
 ],
 "metadata": {
  "kernelspec": {
   "display_name": "Python 2",
   "language": "python",
   "name": "python2"
  },
  "language_info": {
   "codemirror_mode": {
    "name": "ipython",
    "version": 2
   },
   "file_extension": ".py",
   "mimetype": "text/x-python",
   "name": "python",
   "nbconvert_exporter": "python",
   "pygments_lexer": "ipython2",
   "version": "2.7.16"
  }
 },
 "nbformat": 4,
 "nbformat_minor": 2
}
