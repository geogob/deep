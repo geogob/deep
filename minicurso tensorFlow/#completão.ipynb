{
 "cells": [
  {
   "cell_type": "markdown",
   "metadata": {},
   "source": [
    "<h3>Aula 00 - Olá Mundo!<h3/>"
   ]
  },
  {
   "cell_type": "code",
   "execution_count": 61,
   "metadata": {},
   "outputs": [],
   "source": [
    "import tensorflow as tf"
   ]
  },
  {
   "cell_type": "code",
   "execution_count": 62,
   "metadata": {},
   "outputs": [
    {
     "name": "stdout",
     "output_type": "stream",
     "text": [
      "Olá mundo\n"
     ]
    }
   ],
   "source": [
    "frase = tf.constant('Olá mundo')\n",
    "#with tf.Session() as ss:\n",
    "#    rodar = ss.run(frase)\n",
    "#print(rodar)\n",
    "\n",
    "#outra opção:\n",
    "print(tf.Session().run(frase))    "
   ]
  },
  {
   "cell_type": "code",
   "execution_count": 63,
   "metadata": {},
   "outputs": [
    {
     "name": "stdout",
     "output_type": "stream",
     "text": [
      "Tensor(\"Const_56:0\", shape=(), dtype=string)\n"
     ]
    }
   ],
   "source": [
    "print(frase) #variável frase é um tensor"
   ]
  },
  {
   "cell_type": "markdown",
   "metadata": {},
   "source": [
    "<h3>Aula 01 - Grafo Computacional: Pensando sobre Processamento Paralelo <h3/>"
   ]
  },
  {
   "cell_type": "code",
   "execution_count": 64,
   "metadata": {},
   "outputs": [],
   "source": [
    "a = tf.constant(5)\n",
    "b = tf.constant(3)\n",
    "c = tf.constant(2)\n",
    "\n",
    "d = tf.multiply(a,b)\n",
    "e = tf.add(b,c)\n",
    "f = tf.subtract(d,e)\n",
    "\n",
    "sess = tf.Session()\n",
    "saida = sess.run(f) #aqui as variáveis recebem os valores pq uma depende da outra\n",
    "sess.close() #boa prática"
   ]
  },
  {
   "cell_type": "code",
   "execution_count": 65,
   "metadata": {},
   "outputs": [
    {
     "name": "stdout",
     "output_type": "stream",
     "text": [
      "10\n"
     ]
    }
   ],
   "source": [
    "print(saida)"
   ]
  },
  {
   "cell_type": "code",
   "execution_count": 66,
   "metadata": {},
   "outputs": [
    {
     "name": "stdout",
     "output_type": "stream",
     "text": [
      "Tensor(\"Sub_9:0\", shape=(), dtype=int32)\n"
     ]
    }
   ],
   "source": [
    "print(f) #as variáveis são tensores"
   ]
  },
  {
   "cell_type": "markdown",
   "metadata": {},
   "source": [
    "<h3>Aula 02 - O que são Tensores?<h3/>"
   ]
  },
  {
   "cell_type": "code",
   "execution_count": 67,
   "metadata": {},
   "outputs": [],
   "source": [
    "#Aqui tudo são Tensores\n",
    "a = tf.constant(2) #1x1\n",
    "b = tf.constant([2,1,5,6,7]) #1xn\n",
    "c = tf.constant([[2,1,5,6,7],[2,1,5,6,7]]) #mxn\n",
    "\n",
    "sess = tf.Session()\n",
    "saida = sess.run(c)\n",
    "sess.close()"
   ]
  },
  {
   "cell_type": "code",
   "execution_count": 68,
   "metadata": {},
   "outputs": [
    {
     "name": "stdout",
     "output_type": "stream",
     "text": [
      "[[2 1 5 6 7]\n",
      " [2 1 5 6 7]]\n"
     ]
    }
   ],
   "source": [
    "print(saida)"
   ]
  },
  {
   "cell_type": "markdown",
   "metadata": {},
   "source": [
    "Comparação com Numpy"
   ]
  },
  {
   "cell_type": "code",
   "execution_count": 69,
   "metadata": {},
   "outputs": [],
   "source": [
    "import numpy as np\n",
    "a1 = np.array(2)\n",
    "b1 = np.array([1,4,6,2,9])\n",
    "c1 = np.array([[1,2,3],[4,5,6]])"
   ]
  },
  {
   "cell_type": "code",
   "execution_count": 70,
   "metadata": {},
   "outputs": [
    {
     "name": "stdout",
     "output_type": "stream",
     "text": [
      "(2, 5)\n"
     ]
    }
   ],
   "source": [
    "print(c.shape)"
   ]
  },
  {
   "cell_type": "code",
   "execution_count": 71,
   "metadata": {},
   "outputs": [
    {
     "name": "stdout",
     "output_type": "stream",
     "text": [
      "(2, 3)\n"
     ]
    }
   ],
   "source": [
    "print(c1.shape)"
   ]
  },
  {
   "cell_type": "code",
   "execution_count": 72,
   "metadata": {},
   "outputs": [
    {
     "name": "stdout",
     "output_type": "stream",
     "text": [
      "Tensor(\"Const_63:0\", shape=(), dtype=float32)\n"
     ]
    }
   ],
   "source": [
    "#Type -> identifica sozinho\n",
    "const = tf.constant(4.78)\n",
    "print(const)"
   ]
  },
  {
   "cell_type": "code",
   "execution_count": 73,
   "metadata": {},
   "outputs": [
    {
     "name": "stdout",
     "output_type": "stream",
     "text": [
      "Tensor(\"Const_64:0\", shape=(), dtype=float64)\n"
     ]
    }
   ],
   "source": [
    "#Ou defina\n",
    "const = tf.constant(4, dtype=tf.float64)\n",
    "print(const)"
   ]
  },
  {
   "cell_type": "markdown",
   "metadata": {},
   "source": [
    "<h3>Aula 03 - Multiplicação de matrizes<h3/>"
   ]
  },
  {
   "cell_type": "code",
   "execution_count": 74,
   "metadata": {},
   "outputs": [],
   "source": [
    "A = tf.constant([[1,2,3],[9,0,8]])\n",
    "B = tf.constant([[1,2],[9,0],[1,1]])"
   ]
  },
  {
   "cell_type": "code",
   "execution_count": 77,
   "metadata": {},
   "outputs": [
    {
     "name": "stdout",
     "output_type": "stream",
     "text": [
      "Tensor(\"Const_66:0\", shape=(3, 2), dtype=int32)\n"
     ]
    }
   ],
   "source": [
    "print B"
   ]
  },
  {
   "cell_type": "raw",
   "metadata": {},
   "source": [
    "resultado = tf.matmul(A,B)\n",
    "sess = tf.Session()\n",
    "saida = sess.run(resultado)"
   ]
  },
  {
   "cell_type": "code",
   "execution_count": 80,
   "metadata": {},
   "outputs": [
    {
     "name": "stdout",
     "output_type": "stream",
     "text": [
      "[[2 1 5 6 7]\n",
      " [2 1 5 6 7]]\n"
     ]
    }
   ],
   "source": [
    "print(saida)"
   ]
  },
  {
   "cell_type": "code",
   "execution_count": 92,
   "metadata": {},
   "outputs": [
    {
     "data": {
      "text/plain": [
       "array([0, 1, 0], dtype=int32)"
      ]
     },
     "execution_count": 92,
     "metadata": {},
     "output_type": "execute_result"
    }
   ],
   "source": [
    "#Usando expand\n",
    "x = tf.constant([0,1,0])\n",
    "sess.run(x)"
   ]
  },
  {
   "cell_type": "code",
   "execution_count": 93,
   "metadata": {},
   "outputs": [
    {
     "data": {
      "text/plain": [
       "TensorShape([Dimension(3)])"
      ]
     },
     "execution_count": 93,
     "metadata": {},
     "output_type": "execute_result"
    }
   ],
   "source": [
    "x.shape"
   ]
  },
  {
   "cell_type": "code",
   "execution_count": 97,
   "metadata": {},
   "outputs": [],
   "source": [
    "x = tf.expand_dims(x,1) #AQUI"
   ]
  },
  {
   "cell_type": "code",
   "execution_count": 98,
   "metadata": {},
   "outputs": [
    {
     "data": {
      "text/plain": [
       "TensorShape([Dimension(3), Dimension(1)])"
      ]
     },
     "execution_count": 98,
     "metadata": {},
     "output_type": "execute_result"
    }
   ],
   "source": [
    "x.shape "
   ]
  },
  {
   "cell_type": "code",
   "execution_count": 99,
   "metadata": {},
   "outputs": [],
   "source": [
    "resultado2 = tf.matmul(A,x)"
   ]
  },
  {
   "cell_type": "code",
   "execution_count": 100,
   "metadata": {},
   "outputs": [
    {
     "name": "stdout",
     "output_type": "stream",
     "text": [
      "[[2]\n",
      " [0]]\n"
     ]
    }
   ],
   "source": [
    "print(sess.run(resultado2))"
   ]
  },
  {
   "cell_type": "markdown",
   "metadata": {},
   "source": [
    "Transposta"
   ]
  },
  {
   "cell_type": "code",
   "execution_count": 101,
   "metadata": {},
   "outputs": [
    {
     "name": "stdout",
     "output_type": "stream",
     "text": [
      "[[1 2 3]\n",
      " [9 0 8]]\n"
     ]
    }
   ],
   "source": [
    "print(sess.run(A))"
   ]
  },
  {
   "cell_type": "code",
   "execution_count": 102,
   "metadata": {},
   "outputs": [],
   "source": [
    "transposta = tf.transpose(A)"
   ]
  },
  {
   "cell_type": "code",
   "execution_count": 104,
   "metadata": {},
   "outputs": [
    {
     "name": "stdout",
     "output_type": "stream",
     "text": [
      "[[1 9]\n",
      " [2 0]\n",
      " [3 8]]\n"
     ]
    }
   ],
   "source": [
    "print(sess.run(transposta))"
   ]
  },
  {
   "cell_type": "markdown",
   "metadata": {},
   "source": [
    "<h3>Aula 04 - Variáveis no Tensor flow<h3/>"
   ]
  },
  {
   "cell_type": "code",
   "execution_count": 105,
   "metadata": {},
   "outputs": [],
   "source": [
    "variavel = tf.Variable(7)"
   ]
  },
  {
   "cell_type": "code",
   "execution_count": 107,
   "metadata": {},
   "outputs": [
    {
     "name": "stdout",
     "output_type": "stream",
     "text": [
      "7\n"
     ]
    }
   ],
   "source": [
    "init = tf.global_variables_initializer()\n",
    "with tf.Session() as sess:\n",
    "    sess.run(init)\n",
    "    rodar = sess.run(variavel)\n",
    "print(rodar)"
   ]
  },
  {
   "cell_type": "code",
   "execution_count": 108,
   "metadata": {},
   "outputs": [],
   "source": [
    "matriz = tf.random_normal((3,5),0,1) #(shape, média, desvio_padrão)"
   ]
  },
  {
   "cell_type": "code",
   "execution_count": 109,
   "metadata": {},
   "outputs": [
    {
     "name": "stdout",
     "output_type": "stream",
     "text": [
      "<tf.Variable 'Variable_1:0' shape=(3, 5) dtype=float32_ref>\n"
     ]
    }
   ],
   "source": [
    "variavel2 = tf.Variable(matriz)\n",
    "print(variavel2)"
   ]
  },
  {
   "cell_type": "code",
   "execution_count": 111,
   "metadata": {},
   "outputs": [
    {
     "name": "stdout",
     "output_type": "stream",
     "text": [
      "[[ 0.72136277 -0.10628515  0.5569532  -0.83018893  0.1730272 ]\n",
      " [ 1.57901    -0.2241401   0.43604577  2.9345324   1.1493737 ]\n",
      " [-0.77825487  0.29126006  0.12586072  1.0651444  -0.06758285]]\n"
     ]
    }
   ],
   "source": [
    "init = tf.global_variables_initializer()\n",
    "with tf.Session() as sess:\n",
    "    sess.run(init)\n",
    "    rodar = sess.run(variavel2)\n",
    "print(rodar)"
   ]
  },
  {
   "cell_type": "markdown",
   "metadata": {},
   "source": [
    "<h3>Aula 05 - Placeholders<h3/>"
   ]
  },
  {
   "cell_type": "code",
   "execution_count": 116,
   "metadata": {},
   "outputs": [],
   "source": [
    "dados_x = np.random.randn(4,8)\n",
    "dados_w = np.random.randn(8,2)\n",
    "\n",
    "b = tf.random_normal((4,2),0,1)\n",
    "\n",
    "x = tf.placeholder(tf.float32, shape=(4,8))\n",
    "w = tf.placeholder(tf.float32, shape=(8,2))\n",
    "operacao = tf.matmul(x,w)+b\n",
    "maximo = tf.reduce_max(operacao)"
   ]
  },
  {
   "cell_type": "code",
   "execution_count": 117,
   "metadata": {},
   "outputs": [],
   "source": [
    "with tf.Session() as sess:\n",
    "    saida1 = sess.run(operacao, feed_dict = {x: dados_x, w: dados_w})\n",
    "    saida2 = sess.run(maximo, feed_dict = {x: dados_x, w: dados_w})"
   ]
  },
  {
   "cell_type": "code",
   "execution_count": 118,
   "metadata": {},
   "outputs": [
    {
     "name": "stdout",
     "output_type": "stream",
     "text": [
      "[[ 0.41015863 -2.9372668 ]\n",
      " [ 5.3692226   0.91463006]\n",
      " [-0.7047295   3.2012112 ]\n",
      " [ 3.3089955   4.129993  ]]\n"
     ]
    }
   ],
   "source": [
    "print saida1"
   ]
  },
  {
   "cell_type": "code",
   "execution_count": 119,
   "metadata": {},
   "outputs": [
    {
     "name": "stdout",
     "output_type": "stream",
     "text": [
      "4.977703\n"
     ]
    }
   ],
   "source": [
    "print saida2"
   ]
  },
  {
   "cell_type": "markdown",
   "metadata": {},
   "source": [
    "Criando pacotes"
   ]
  },
  {
   "cell_type": "code",
   "execution_count": 131,
   "metadata": {},
   "outputs": [],
   "source": [
    "x1 = np.random.randn(4,8)\n",
    "w1 = np.random.randn(8,2)\n",
    "\n",
    "x2 = np.random.randn(4,8)\n",
    "w2 = np.random.randn(8,2)\n",
    "\n",
    "x3 = np.random.randn(4,8)\n",
    "w3 = np.random.randn(8,2)\n",
    "\n",
    "x4 = np.random.randn(4,8)\n",
    "w4 = np.random.randn(8,2)\n",
    "\n",
    "x5 = np.random.randn(4,8)\n",
    "w5 = np.random.randn(8,2)\n",
    "\n",
    "lista_x = [x1, x2, x3, x4, x5]\n",
    "lista_w = [w1, w2, w3, w4, w5]\n",
    "\n",
    "lista_saida = []\n",
    "\n",
    "b = tf.random_normal((4,2),0,1)\n",
    "\n",
    "x = tf.placeholder(tf.float32, shape=(4,8)) #poderia ser none, none\n",
    "w = tf.placeholder(tf.float32, shape=(8,2)) #poderia ser none, none\n",
    "operacao = tf.matmul(x,w)+b\n",
    "\n",
    "maximo = tf.reduce_max(operacao)"
   ]
  },
  {
   "cell_type": "code",
   "execution_count": 132,
   "metadata": {},
   "outputs": [
    {
     "name": "stdout",
     "output_type": "stream",
     "text": [
      "[3.9086523, 1.6895704, 5.3651266, 2.6853297, 6.6149306]\n"
     ]
    }
   ],
   "source": [
    "with tf.Session() as sess:\n",
    "    for i in range(5):\n",
    "        saida = sess.run(maximo, feed_dict = {x: lista_x[i], w: lista_w[i]})\n",
    "        lista_saida.append(saida)\n",
    "print(lista_saida)"
   ]
  },
  {
   "cell_type": "code",
   "execution_count": 133,
   "metadata": {},
   "outputs": [
    {
     "data": {
      "text/plain": [
       "5"
      ]
     },
     "execution_count": 133,
     "metadata": {},
     "output_type": "execute_result"
    }
   ],
   "source": [
    "len(lista_saida)"
   ]
  },
  {
   "cell_type": "markdown",
   "metadata": {},
   "source": [
    "<h3>Tensor board - Não copiei!!!<h3/>"
   ]
  },
  {
   "cell_type": "code",
   "execution_count": null,
   "metadata": {},
   "outputs": [],
   "source": []
  }
 ],
 "metadata": {
  "kernelspec": {
   "display_name": "Python 2",
   "language": "python",
   "name": "python2"
  },
  "language_info": {
   "codemirror_mode": {
    "name": "ipython",
    "version": 2
   },
   "file_extension": ".py",
   "mimetype": "text/x-python",
   "name": "python",
   "nbconvert_exporter": "python",
   "pygments_lexer": "ipython2",
   "version": "2.7.16"
  }
 },
 "nbformat": 4,
 "nbformat_minor": 2
}
