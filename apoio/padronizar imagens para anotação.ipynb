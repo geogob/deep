{
 "cells": [
  {
   "cell_type": "code",
   "execution_count": 11,
   "metadata": {},
   "outputs": [
    {
     "name": "stdout",
     "output_type": "stream",
     "text": [
      "<PIL.Image.Image image mode=L size=644x767 at 0x7F607635A690>\n"
     ]
    }
   ],
   "source": [
    "from PIL import Image, ImageOps #Conversão para um objeto PIL\n",
    "import glob as gb #Leitura de arquivos externos\n",
    "imRGB = Image.open('/home/george/doutorado/anotador/Anotador js/img/n4.jpg')\n",
    "\n",
    "imRGB.convert(\"RGB\") \n",
    "imGrayLevel = imRGB.split()[0]\n",
    "\n",
    "print imGrayLevel"
   ]
  },
  {
   "cell_type": "code",
   "execution_count": 14,
   "metadata": {},
   "outputs": [
    {
     "name": "stdout",
     "output_type": "stream",
     "text": [
      "/home/george/doutorado/anotador/Anotador js/img/n38.jpg\n",
      "/home/george/doutorado/anotador/Anotador js/img/n30.jpg\n",
      "/home/george/doutorado/anotador/Anotador js/img/n48.jpg\n",
      "/home/george/doutorado/anotador/Anotador js/img/n72.jpg\n",
      "/home/george/doutorado/anotador/Anotador js/img/n100.jpg\n",
      "/home/george/doutorado/anotador/Anotador js/img/n15.jpg\n",
      "/home/george/doutorado/anotador/Anotador js/img/n41.jpg\n",
      "/home/george/doutorado/anotador/Anotador js/img/n19.jpg\n",
      "/home/george/doutorado/anotador/Anotador js/img/n1.jpg\n",
      "/home/george/doutorado/anotador/Anotador js/img/n83.jpg\n",
      "/home/george/doutorado/anotador/Anotador js/img/n32.jpg\n",
      "/home/george/doutorado/anotador/Anotador js/img/n98.jpg\n",
      "/home/george/doutorado/anotador/Anotador js/img/n60.jpg\n",
      "/home/george/doutorado/anotador/Anotador js/img/n43.jpg\n",
      "/home/george/doutorado/anotador/Anotador js/img/n63.jpg\n",
      "/home/george/doutorado/anotador/Anotador js/img/n88.jpg\n",
      "/home/george/doutorado/anotador/Anotador js/img/n37.jpg\n",
      "/home/george/doutorado/anotador/Anotador js/img/n99.jpg\n",
      "/home/george/doutorado/anotador/Anotador js/img/n16.jpg\n",
      "/home/george/doutorado/anotador/Anotador js/img/n17.jpg\n",
      "/home/george/doutorado/anotador/Anotador js/img/n51.jpg\n",
      "/home/george/doutorado/anotador/Anotador js/img/n95.jpg\n",
      "/home/george/doutorado/anotador/Anotador js/img/n85.jpg\n",
      "/home/george/doutorado/anotador/Anotador js/img/n61.jpg\n",
      "/home/george/doutorado/anotador/Anotador js/img/n10.jpg\n",
      "/home/george/doutorado/anotador/Anotador js/img/n25.jpg\n",
      "/home/george/doutorado/anotador/Anotador js/img/n69.jpg\n",
      "/home/george/doutorado/anotador/Anotador js/img/n20.jpg\n",
      "/home/george/doutorado/anotador/Anotador js/img/n78.jpg\n",
      "/home/george/doutorado/anotador/Anotador js/img/n97.jpg\n",
      "/home/george/doutorado/anotador/Anotador js/img/n90.jpg\n",
      "/home/george/doutorado/anotador/Anotador js/img/n23.jpg\n",
      "/home/george/doutorado/anotador/Anotador js/img/n62.jpg\n",
      "/home/george/doutorado/anotador/Anotador js/img/n64.jpg\n",
      "/home/george/doutorado/anotador/Anotador js/img/n74.jpg\n",
      "/home/george/doutorado/anotador/Anotador js/img/n4.jpg\n",
      "/home/george/doutorado/anotador/Anotador js/img/n92.jpg\n",
      "/home/george/doutorado/anotador/Anotador js/img/n66.jpg\n",
      "/home/george/doutorado/anotador/Anotador js/img/n29.jpg\n",
      "/home/george/doutorado/anotador/Anotador js/img/n8.jpg\n",
      "/home/george/doutorado/anotador/Anotador js/img/n49.jpg\n",
      "/home/george/doutorado/anotador/Anotador js/img/n39.jpg\n",
      "/home/george/doutorado/anotador/Anotador js/img/n13.jpg\n",
      "/home/george/doutorado/anotador/Anotador js/img/n81.jpg\n",
      "/home/george/doutorado/anotador/Anotador js/img/n46.jpg\n",
      "/home/george/doutorado/anotador/Anotador js/img/n45.jpg\n",
      "/home/george/doutorado/anotador/Anotador js/img/n11.jpg\n",
      "/home/george/doutorado/anotador/Anotador js/img/n86.jpg\n",
      "/home/george/doutorado/anotador/Anotador js/img/n93.jpg\n",
      "/home/george/doutorado/anotador/Anotador js/img/n47.jpg\n",
      "/home/george/doutorado/anotador/Anotador js/img/n57.jpg\n",
      "/home/george/doutorado/anotador/Anotador js/img/n82.jpg\n",
      "/home/george/doutorado/anotador/Anotador js/img/n36.jpg\n",
      "/home/george/doutorado/anotador/Anotador js/img/n71.jpg\n",
      "/home/george/doutorado/anotador/Anotador js/img/n101.jpg\n",
      "/home/george/doutorado/anotador/Anotador js/img/n44.jpg\n",
      "/home/george/doutorado/anotador/Anotador js/img/n33.jpg\n",
      "/home/george/doutorado/anotador/Anotador js/img/n54.jpg\n",
      "/home/george/doutorado/anotador/Anotador js/img/n34.jpg\n",
      "/home/george/doutorado/anotador/Anotador js/img/n94.jpg\n",
      "/home/george/doutorado/anotador/Anotador js/img/n59.jpg\n",
      "/home/george/doutorado/anotador/Anotador js/img/n84.jpg\n",
      "/home/george/doutorado/anotador/Anotador js/img/n73.jpg\n",
      "/home/george/doutorado/anotador/Anotador js/img/n79.jpg\n",
      "/home/george/doutorado/anotador/Anotador js/img/n9.jpg\n",
      "/home/george/doutorado/anotador/Anotador js/img/n35.jpg\n",
      "/home/george/doutorado/anotador/Anotador js/img/n76.jpg\n",
      "/home/george/doutorado/anotador/Anotador js/img/n12.jpg\n",
      "/home/george/doutorado/anotador/Anotador js/img/n58.jpg\n",
      "/home/george/doutorado/anotador/Anotador js/img/n53.jpg\n",
      "/home/george/doutorado/anotador/Anotador js/img/n89.jpg\n",
      "/home/george/doutorado/anotador/Anotador js/img/n77.jpg\n",
      "/home/george/doutorado/anotador/Anotador js/img/n28.jpg\n",
      "/home/george/doutorado/anotador/Anotador js/img/n75.jpg\n",
      "/home/george/doutorado/anotador/Anotador js/img/n52.jpg\n",
      "/home/george/doutorado/anotador/Anotador js/img/n3.jpg\n",
      "/home/george/doutorado/anotador/Anotador js/img/n67.jpg\n",
      "/home/george/doutorado/anotador/Anotador js/img/n14.jpg\n",
      "/home/george/doutorado/anotador/Anotador js/img/n42.jpg\n",
      "/home/george/doutorado/anotador/Anotador js/img/n55.jpg\n",
      "/home/george/doutorado/anotador/Anotador js/img/n5.jpg\n",
      "/home/george/doutorado/anotador/Anotador js/img/n2.jpg\n",
      "/home/george/doutorado/anotador/Anotador js/img/n70.jpg\n",
      "/home/george/doutorado/anotador/Anotador js/img/n96.jpg\n",
      "/home/george/doutorado/anotador/Anotador js/img/n6.jpg\n",
      "/home/george/doutorado/anotador/Anotador js/img/n80.jpg\n",
      "/home/george/doutorado/anotador/Anotador js/img/n50.jpg\n",
      "/home/george/doutorado/anotador/Anotador js/img/n18.jpg\n",
      "/home/george/doutorado/anotador/Anotador js/img/n65.jpg\n",
      "/home/george/doutorado/anotador/Anotador js/img/n40.jpg\n",
      "/home/george/doutorado/anotador/Anotador js/img/n21.jpg\n",
      "/home/george/doutorado/anotador/Anotador js/img/n31.jpg\n",
      "/home/george/doutorado/anotador/Anotador js/img/n68.jpg\n",
      "/home/george/doutorado/anotador/Anotador js/img/n22.jpg\n",
      "/home/george/doutorado/anotador/Anotador js/img/n56.jpg\n",
      "/home/george/doutorado/anotador/Anotador js/img/n91.jpg\n",
      "/home/george/doutorado/anotador/Anotador js/img/n7.jpg\n",
      "/home/george/doutorado/anotador/Anotador js/img/n26.jpg\n",
      "/home/george/doutorado/anotador/Anotador js/img/n87.jpg\n",
      "/home/george/doutorado/anotador/Anotador js/img/n27.jpg\n",
      "/home/george/doutorado/anotador/Anotador js/img/n24.jpg\n"
     ]
    }
   ],
   "source": [
    "#Carrega as imagens da pasta \n",
    "for foto in gb.glob('/home/george/doutorado/anotador/Anotador js/img/*.jpg'):\n",
    "    print foto\n",
    "    imRGB = Image.open(foto)\n",
    "    newsize = (500, 500) \n",
    "    im = imRGB.resize(newsize)\n",
    "    im.save(foto)\n"
   ]
  },
  {
   "cell_type": "code",
   "execution_count": null,
   "metadata": {},
   "outputs": [],
   "source": []
  },
  {
   "cell_type": "code",
   "execution_count": null,
   "metadata": {},
   "outputs": [],
   "source": []
  }
 ],
 "metadata": {
  "kernelspec": {
   "display_name": "Python 2",
   "language": "python",
   "name": "python2"
  },
  "language_info": {
   "codemirror_mode": {
    "name": "ipython",
    "version": 2
   },
   "file_extension": ".py",
   "mimetype": "text/x-python",
   "name": "python",
   "nbconvert_exporter": "python",
   "pygments_lexer": "ipython2",
   "version": "2.7.16"
  }
 },
 "nbformat": 4,
 "nbformat_minor": 2
}
