{
 "cells": [
  {
   "cell_type": "code",
   "execution_count": 1,
   "metadata": {},
   "outputs": [
    {
     "name": "stderr",
     "output_type": "stream",
     "text": [
      "WARNING: Logging before flag parsing goes to stderr.\n",
      "W0402 00:34:02.070872 140555426239872 deprecation.py:323] From <ipython-input-1-2f7a547f03eb>:5: read_data_sets (from tensorflow.contrib.learn.python.learn.datasets.mnist) is deprecated and will be removed in a future version.\n",
      "Instructions for updating:\n",
      "Please use alternatives such as official/mnist/dataset.py from tensorflow/models.\n",
      "W0402 00:34:02.072968 140555426239872 deprecation.py:323] From /home/george/anaconda2/lib/python2.7/site-packages/tensorflow/contrib/learn/python/learn/datasets/mnist.py:260: maybe_download (from tensorflow.contrib.learn.python.learn.datasets.base) is deprecated and will be removed in a future version.\n",
      "Instructions for updating:\n",
      "Please write your own downloading logic.\n",
      "W0402 00:34:02.075530 140555426239872 deprecation.py:323] From /home/george/anaconda2/lib/python2.7/site-packages/tensorflow/contrib/learn/python/learn/datasets/base.py:252: wrapped_fn (from tensorflow.contrib.learn.python.learn.datasets.base) is deprecated and will be removed in a future version.\n",
      "Instructions for updating:\n",
      "Please use urllib or similar directly.\n",
      "W0402 00:34:12.754734 140555426239872 deprecation.py:323] From /home/george/anaconda2/lib/python2.7/site-packages/tensorflow/contrib/learn/python/learn/datasets/mnist.py:262: extract_images (from tensorflow.contrib.learn.python.learn.datasets.mnist) is deprecated and will be removed in a future version.\n",
      "Instructions for updating:\n",
      "Please use tf.data to implement this functionality.\n"
     ]
    },
    {
     "name": "stdout",
     "output_type": "stream",
     "text": [
      "Successfully downloaded train-images-idx3-ubyte.gz 9912422 bytes.\n",
      "Extracting MNIST_data/train-images-idx3-ubyte.gz\n"
     ]
    },
    {
     "name": "stderr",
     "output_type": "stream",
     "text": [
      "W0402 00:34:13.879750 140555426239872 deprecation.py:323] From /home/george/anaconda2/lib/python2.7/site-packages/tensorflow/contrib/learn/python/learn/datasets/mnist.py:267: extract_labels (from tensorflow.contrib.learn.python.learn.datasets.mnist) is deprecated and will be removed in a future version.\n",
      "Instructions for updating:\n",
      "Please use tf.data to implement this functionality.\n",
      "W0402 00:34:13.892075 140555426239872 deprecation.py:323] From /home/george/anaconda2/lib/python2.7/site-packages/tensorflow/contrib/learn/python/learn/datasets/mnist.py:110: dense_to_one_hot (from tensorflow.contrib.learn.python.learn.datasets.mnist) is deprecated and will be removed in a future version.\n",
      "Instructions for updating:\n",
      "Please use tf.one_hot on tensors.\n"
     ]
    },
    {
     "name": "stdout",
     "output_type": "stream",
     "text": [
      "Successfully downloaded train-labels-idx1-ubyte.gz 28881 bytes.\n",
      "Extracting MNIST_data/train-labels-idx1-ubyte.gz\n",
      "Successfully downloaded t10k-images-idx3-ubyte.gz 1648877 bytes.\n",
      "Extracting MNIST_data/t10k-images-idx3-ubyte.gz\n"
     ]
    },
    {
     "name": "stderr",
     "output_type": "stream",
     "text": [
      "W0402 00:34:16.741597 140555426239872 deprecation.py:323] From /home/george/anaconda2/lib/python2.7/site-packages/tensorflow/contrib/learn/python/learn/datasets/mnist.py:290: __init__ (from tensorflow.contrib.learn.python.learn.datasets.mnist) is deprecated and will be removed in a future version.\n",
      "Instructions for updating:\n",
      "Please use alternatives such as official/mnist/dataset.py from tensorflow/models.\n"
     ]
    },
    {
     "name": "stdout",
     "output_type": "stream",
     "text": [
      "Successfully downloaded t10k-labels-idx1-ubyte.gz 4542 bytes.\n",
      "Extracting MNIST_data/t10k-labels-idx1-ubyte.gz\n"
     ]
    }
   ],
   "source": [
    "import warnings\n",
    "warnings.filterwarnings('ignore')\n",
    "import tensorflow as tf\n",
    "from tensorflow.examples.tutorials.mnist import input_data\n",
    "mnist = input_data.read_data_sets(\"MNIST_data/\", one_hot=True)"
   ]
  },
  {
   "cell_type": "code",
   "execution_count": 15,
   "metadata": {},
   "outputs": [],
   "source": [
    "#parâmetros gerais\n",
    "learning_rate = 0.001\n",
    "epochs = 20\n",
    "batch_size = 200"
   ]
  },
  {
   "cell_type": "code",
   "execution_count": 3,
   "metadata": {},
   "outputs": [],
   "source": [
    "#parametros da rede neural\n",
    "n_entrada = 784\n",
    "n_camada_1 = 30\n",
    "n_camada_2 = 30\n",
    "n_classes = 10"
   ]
  },
  {
   "cell_type": "code",
   "execution_count": 4,
   "metadata": {},
   "outputs": [],
   "source": [
    "#variáveis preditoras e target (em forma de placeholders)\n",
    "x = tf.placeholder(tf.float32, [None, n_entrada])\n",
    "y = tf.placeholder(tf.float32, [None, n_classes])"
   ]
  },
  {
   "cell_type": "code",
   "execution_count": 7,
   "metadata": {},
   "outputs": [],
   "source": [
    "#Pesos da camada 1\n",
    "w1 = tf.Variable(tf.random_normal([n_entrada, n_camada_1], stddev=0.05))\n",
    "#Bias da camada 1\n",
    "b1 = tf.Variable(tf.zeros([n_camada_1]))\n",
    "#camada 1\n",
    "layer_1 = tf.nn.relu(tf.add(tf.matmul(x,w1),b1))\n",
    "\n",
    "#Pesos da camada 2\n",
    "w2 = tf.Variable(tf.random_normal([n_camada_1, n_camada_2], stddev=0.05))\n",
    "#Bias da camada 2\n",
    "b2 = tf.Variable(tf.zeros([n_camada_2]))\n",
    "#camada 2\n",
    "layer_2 = tf.nn.relu(tf.add(tf.matmul(layer_1,w2),b2))\n",
    "\n",
    "#pesos da camada de saída\n",
    "w_out = tf.Variable(tf.random_normal([n_camada_2, n_classes], stddev=0.05))\n",
    "#Bias da saída\n",
    "bias_out = tf.Variable(tf.zeros([n_classes]))\n",
    "#Camada de saída\n",
    "saida = tf.matmul(layer_2, w_out) + bias_out"
   ]
  },
  {
   "cell_type": "code",
   "execution_count": 9,
   "metadata": {},
   "outputs": [],
   "source": [
    "#Função de Custo\n",
    "custo = tf.reduce_mean(tf.nn.softmax_cross_entropy_with_logits_v2(logits = saida, labels = y))\n",
    "\n",
    "#otimizador\n",
    "otimizador = tf.train.AdamOptimizer(learning_rate = learning_rate).minimize(custo)"
   ]
  },
  {
   "cell_type": "code",
   "execution_count": 11,
   "metadata": {},
   "outputs": [],
   "source": [
    "#Testando o modelo \n",
    "predicoes = tf.equal(tf.argmax(saida,1), tf.argmax(y, 1))\n",
    "\n",
    "#Calculando a acurácia\n",
    "acuracia = tf.reduce_mean(tf.cast(predicoes, tf.float32))"
   ]
  },
  {
   "cell_type": "markdown",
   "metadata": {},
   "source": [
    "<b>Agora eu inicio as variáveis e tudo que eu defini, além de executar o treinamento da rede... </b>"
   ]
  },
  {
   "cell_type": "code",
   "execution_count": 17,
   "metadata": {},
   "outputs": [
    {
     "name": "stdout",
     "output_type": "stream",
     "text": [
      "('Epoch: ', '1,', 'Custo medio de treino = ', '0.881')\n",
      "('Acc test = ', '0.894')\n",
      "('Epoch: ', '2,', 'Custo medio de treino = ', '0.337')\n",
      "('Acc test = ', '0.908')\n",
      "('Epoch: ', '3,', 'Custo medio de treino = ', '0.285')\n",
      "('Acc test = ', '0.924')\n",
      "('Epoch: ', '4,', 'Custo medio de treino = ', '0.254')\n",
      "('Acc test = ', '0.930')\n",
      "('Epoch: ', '5,', 'Custo medio de treino = ', '0.230')\n",
      "('Acc test = ', '0.934')\n",
      "('Epoch: ', '6,', 'Custo medio de treino = ', '0.207')\n",
      "('Acc test = ', '0.939')\n",
      "('Epoch: ', '7,', 'Custo medio de treino = ', '0.188')\n",
      "('Acc test = ', '0.945')\n",
      "('Epoch: ', '8,', 'Custo medio de treino = ', '0.169')\n",
      "('Acc test = ', '0.948')\n",
      "('Epoch: ', '9,', 'Custo medio de treino = ', '0.154')\n",
      "('Acc test = ', '0.952')\n",
      "('Epoch: ', '10,', 'Custo medio de treino = ', '0.142')\n",
      "('Acc test = ', '0.954')\n",
      "('Epoch: ', '11,', 'Custo medio de treino = ', '0.131')\n",
      "('Acc test = ', '0.956')\n",
      "('Epoch: ', '12,', 'Custo medio de treino = ', '0.122')\n",
      "('Acc test = ', '0.955')\n",
      "('Epoch: ', '13,', 'Custo medio de treino = ', '0.115')\n",
      "('Acc test = ', '0.960')\n",
      "('Epoch: ', '14,', 'Custo medio de treino = ', '0.109')\n",
      "('Acc test = ', '0.962')\n",
      "('Epoch: ', '15,', 'Custo medio de treino = ', '0.101')\n",
      "('Acc test = ', '0.961')\n",
      "('Epoch: ', '16,', 'Custo medio de treino = ', '0.097')\n",
      "('Acc test = ', '0.962')\n",
      "('Epoch: ', '17,', 'Custo medio de treino = ', '0.092')\n",
      "('Acc test = ', '0.965')\n",
      "('Epoch: ', '18,', 'Custo medio de treino = ', '0.088')\n",
      "('Acc test = ', '0.962')\n",
      "('Epoch: ', '19,', 'Custo medio de treino = ', '0.082')\n",
      "('Acc test = ', '0.966')\n",
      "('Epoch: ', '20,', 'Custo medio de treino = ', '0.079')\n",
      "('Acc test = ', '0.964')\n",
      "Treinamento concluído!\n",
      "('Acur\\xc3\\xa1cia do Modelo:', 0.9637)\n"
     ]
    }
   ],
   "source": [
    "#iniciando as variáveis\n",
    "init = tf.global_variables_initializer()\n",
    "\n",
    "#abrindo a sessão\n",
    "with tf.Session() as sess:\n",
    "    sess.run(init)\n",
    "    #cliclo de treinamento - epochs\n",
    "    for epoch in range(epochs):\n",
    "        custo_medio = 0.0\n",
    "        total_batches = int(mnist.train.num_examples / batch_size)\n",
    "        \n",
    "        #loop para os batchs\n",
    "        for i in range(total_batches):\n",
    "            batch_x, batch_y = mnist.train.next_batch(batch_size)\n",
    "            \n",
    "            #fit training usando batch data\n",
    "            sess.run(otimizador, feed_dict={x: batch_x, y: batch_y})\n",
    "            \n",
    "            #computanbdo o custo médio de uma epoch completa: Soma tudo e divide pela quantidade de batchs\n",
    "            custo_medio += sess.run(custo, feed_dict={x: batch_x, y: batch_y}) / total_batches\n",
    "            \n",
    "        #calculando a acurácia em cada época\n",
    "        acuracia_teste = sess.run(acuracia, feed_dict={x:mnist.test.images, y:mnist.test.labels})\n",
    "        \n",
    "        #mostrando resultados após cada época\n",
    "        print(\"Epoch: \", \"{},\".format((epoch + 1)), \"Custo medio de treino = \", \"{:.3f}\". format(custo_medio))\n",
    "        print(\"Acc test = \", \"{:.3f}\".format(acuracia_teste))\n",
    "    print (\"Treinamento concluído!\")\n",
    "    print(\"Acurácia do Modelo:\", acuracia.eval({x: mnist.test.images, y: mnist.test.labels}))\n",
    "            "
   ]
  },
  {
   "cell_type": "code",
   "execution_count": null,
   "metadata": {},
   "outputs": [],
   "source": []
  }
 ],
 "metadata": {
  "kernelspec": {
   "display_name": "Python 2",
   "language": "python",
   "name": "python2"
  },
  "language_info": {
   "codemirror_mode": {
    "name": "ipython",
    "version": 2
   },
   "file_extension": ".py",
   "mimetype": "text/x-python",
   "name": "python",
   "nbconvert_exporter": "python",
   "pygments_lexer": "ipython2",
   "version": "2.7.16"
  }
 },
 "nbformat": 4,
 "nbformat_minor": 2
}
