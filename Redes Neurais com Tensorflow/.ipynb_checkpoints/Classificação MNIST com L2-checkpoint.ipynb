{
 "cells": [
  {
   "cell_type": "code",
   "execution_count": 1,
   "metadata": {},
   "outputs": [
    {
     "name": "stderr",
     "output_type": "stream",
     "text": [
      "WARNING: Logging before flag parsing goes to stderr.\n",
      "W0402 23:56:05.752135 139739710100864 deprecation.py:323] From <ipython-input-1-2f7a547f03eb>:5: read_data_sets (from tensorflow.contrib.learn.python.learn.datasets.mnist) is deprecated and will be removed in a future version.\n",
      "Instructions for updating:\n",
      "Please use alternatives such as official/mnist/dataset.py from tensorflow/models.\n",
      "W0402 23:56:05.756019 139739710100864 deprecation.py:323] From /home/george/anaconda2/lib/python2.7/site-packages/tensorflow/contrib/learn/python/learn/datasets/mnist.py:260: maybe_download (from tensorflow.contrib.learn.python.learn.datasets.base) is deprecated and will be removed in a future version.\n",
      "Instructions for updating:\n",
      "Please write your own downloading logic.\n",
      "W0402 23:56:05.767395 139739710100864 deprecation.py:323] From /home/george/anaconda2/lib/python2.7/site-packages/tensorflow/contrib/learn/python/learn/datasets/mnist.py:262: extract_images (from tensorflow.contrib.learn.python.learn.datasets.mnist) is deprecated and will be removed in a future version.\n",
      "Instructions for updating:\n",
      "Please use tf.data to implement this functionality.\n"
     ]
    },
    {
     "name": "stdout",
     "output_type": "stream",
     "text": [
      "Extracting MNIST_data/train-images-idx3-ubyte.gz\n"
     ]
    },
    {
     "name": "stderr",
     "output_type": "stream",
     "text": [
      "W0402 23:56:06.212728 139739710100864 deprecation.py:323] From /home/george/anaconda2/lib/python2.7/site-packages/tensorflow/contrib/learn/python/learn/datasets/mnist.py:267: extract_labels (from tensorflow.contrib.learn.python.learn.datasets.mnist) is deprecated and will be removed in a future version.\n",
      "Instructions for updating:\n",
      "Please use tf.data to implement this functionality.\n",
      "W0402 23:56:06.228627 139739710100864 deprecation.py:323] From /home/george/anaconda2/lib/python2.7/site-packages/tensorflow/contrib/learn/python/learn/datasets/mnist.py:110: dense_to_one_hot (from tensorflow.contrib.learn.python.learn.datasets.mnist) is deprecated and will be removed in a future version.\n",
      "Instructions for updating:\n",
      "Please use tf.one_hot on tensors.\n",
      "W0402 23:56:06.405443 139739710100864 deprecation.py:323] From /home/george/anaconda2/lib/python2.7/site-packages/tensorflow/contrib/learn/python/learn/datasets/mnist.py:290: __init__ (from tensorflow.contrib.learn.python.learn.datasets.mnist) is deprecated and will be removed in a future version.\n",
      "Instructions for updating:\n",
      "Please use alternatives such as official/mnist/dataset.py from tensorflow/models.\n"
     ]
    },
    {
     "name": "stdout",
     "output_type": "stream",
     "text": [
      "Extracting MNIST_data/train-labels-idx1-ubyte.gz\n",
      "Extracting MNIST_data/t10k-images-idx3-ubyte.gz\n",
      "Extracting MNIST_data/t10k-labels-idx1-ubyte.gz\n"
     ]
    }
   ],
   "source": [
    "import warnings\n",
    "warnings.filterwarnings('ignore')\n",
    "import tensorflow as tf\n",
    "from tensorflow.examples.tutorials.mnist import input_data\n",
    "mnist = input_data.read_data_sets(\"MNIST_data/\", one_hot=True)"
   ]
  },
  {
   "cell_type": "code",
   "execution_count": 2,
   "metadata": {},
   "outputs": [],
   "source": [
    "#parâmetros gerais\n",
    "learning_rate = 0.001\n",
    "epochs = 40\n",
    "batch_size = 1000"
   ]
  },
  {
   "cell_type": "code",
   "execution_count": 3,
   "metadata": {},
   "outputs": [],
   "source": [
    "#parametros da rede neural\n",
    "n_entrada = 784\n",
    "n_camada_1 = 50\n",
    "n_camada_2 = 50\n",
    "n_classes = 10"
   ]
  },
  {
   "cell_type": "code",
   "execution_count": 4,
   "metadata": {},
   "outputs": [],
   "source": [
    "#variáveis preditoras e target (em forma de placeholders)\n",
    "x = tf.placeholder(tf.float32, [None, n_entrada])\n",
    "y = tf.placeholder(tf.float32, [None, n_classes])"
   ]
  },
  {
   "cell_type": "code",
   "execution_count": 9,
   "metadata": {},
   "outputs": [],
   "source": [
    "#Pesos da camada 1\n",
    "w1 = tf.Variable(tf.random_normal([n_entrada, n_camada_1], stddev=0.05))\n",
    "#Bias da camada 1\n",
    "b1 = tf.Variable(tf.zeros([n_camada_1]))\n",
    "#camada 1\n",
    "layer_1 = tf.nn.relu(tf.add(tf.matmul(x,w1),b1))\n",
    "#dropout 1\n",
    "drop1 = tf.nn.dropout(layer_1, rate=0.2)\n",
    "\n",
    "#Pesos da camada 2\n",
    "w2 = tf.Variable(tf.random_normal([n_camada_1, n_camada_2], stddev=0.05))\n",
    "#Bias da camada 2\n",
    "b2 = tf.Variable(tf.zeros([n_camada_2]))\n",
    "#camada 2\n",
    "layer_2 = tf.nn.relu(tf.add(tf.matmul(drop1,w2),b2))\n",
    "#dropout 2\n",
    "drop2 = tf.nn.dropout(layer_2, rate=0.2)\n",
    "\n",
    "#pesos da camada de saída\n",
    "w_out = tf.Variable(tf.random_normal([n_camada_2, n_classes], stddev=0.05))\n",
    "#Bias da saída\n",
    "bias_out = tf.Variable(tf.zeros([n_classes]))\n",
    "#Camada de saída\n",
    "saida = tf.matmul(drop2, w_out) + bias_out"
   ]
  },
  {
   "cell_type": "code",
   "execution_count": 10,
   "metadata": {},
   "outputs": [],
   "source": [
    "#Função de Custo\n",
    "custo = tf.reduce_mean(tf.nn.softmax_cross_entropy_with_logits_v2(logits = saida, labels = y))\n",
    "\n",
    "#otimizador\n",
    "otimizador = tf.train.AdamOptimizer(learning_rate = learning_rate).minimize(custo)"
   ]
  },
  {
   "cell_type": "code",
   "execution_count": 11,
   "metadata": {},
   "outputs": [],
   "source": [
    "#Testando o modelo \n",
    "predicoes = tf.equal(tf.argmax(saida,1), tf.argmax(y, 1))\n",
    "\n",
    "#Calculando a acurácia\n",
    "acuracia = tf.reduce_mean(tf.cast(predicoes, tf.float32))"
   ]
  },
  {
   "cell_type": "markdown",
   "metadata": {},
   "source": [
    "<b>Agora eu inicio as variáveis e tudo que eu defini, além de executar o treinamento da rede... </b>"
   ]
  },
  {
   "cell_type": "code",
   "execution_count": 12,
   "metadata": {},
   "outputs": [
    {
     "name": "stdout",
     "output_type": "stream",
     "text": [
      "('Epoch: ', '1,', 'Custo medio de treino = ', '1.686')\n",
      "('Acc test = ', '0.715')\n",
      "('Epoch: ', '2,', 'Custo medio de treino = ', '0.676')\n",
      "('Acc test = ', '0.841')\n",
      "('Epoch: ', '3,', 'Custo medio de treino = ', '0.485')\n",
      "('Acc test = ', '0.872')\n",
      "('Epoch: ', '4,', 'Custo medio de treino = ', '0.407')\n",
      "('Acc test = ', '0.891')\n",
      "('Epoch: ', '5,', 'Custo medio de treino = ', '0.360')\n",
      "('Acc test = ', '0.902')\n",
      "('Epoch: ', '6,', 'Custo medio de treino = ', '0.324')\n",
      "('Acc test = ', '0.908')\n",
      "('Epoch: ', '7,', 'Custo medio de treino = ', '0.297')\n",
      "('Acc test = ', '0.916')\n",
      "('Epoch: ', '8,', 'Custo medio de treino = ', '0.278')\n",
      "('Acc test = ', '0.922')\n",
      "('Epoch: ', '9,', 'Custo medio de treino = ', '0.257')\n",
      "('Acc test = ', '0.927')\n",
      "('Epoch: ', '10,', 'Custo medio de treino = ', '0.245')\n",
      "('Acc test = ', '0.930')\n",
      "('Epoch: ', '11,', 'Custo medio de treino = ', '0.228')\n",
      "('Acc test = ', '0.934')\n",
      "('Epoch: ', '12,', 'Custo medio de treino = ', '0.215')\n",
      "('Acc test = ', '0.934')\n",
      "('Epoch: ', '13,', 'Custo medio de treino = ', '0.210')\n",
      "('Acc test = ', '0.936')\n",
      "('Epoch: ', '14,', 'Custo medio de treino = ', '0.203')\n",
      "('Acc test = ', '0.938')\n",
      "('Epoch: ', '15,', 'Custo medio de treino = ', '0.192')\n",
      "('Acc test = ', '0.940')\n",
      "('Epoch: ', '16,', 'Custo medio de treino = ', '0.186')\n",
      "('Acc test = ', '0.941')\n",
      "('Epoch: ', '17,', 'Custo medio de treino = ', '0.183')\n",
      "('Acc test = ', '0.943')\n",
      "('Epoch: ', '18,', 'Custo medio de treino = ', '0.176')\n",
      "('Acc test = ', '0.943')\n",
      "('Epoch: ', '19,', 'Custo medio de treino = ', '0.168')\n",
      "('Acc test = ', '0.947')\n",
      "('Epoch: ', '20,', 'Custo medio de treino = ', '0.162')\n",
      "('Acc test = ', '0.943')\n",
      "('Epoch: ', '21,', 'Custo medio de treino = ', '0.160')\n",
      "('Acc test = ', '0.950')\n",
      "('Epoch: ', '22,', 'Custo medio de treino = ', '0.156')\n",
      "('Acc test = ', '0.949')\n",
      "('Epoch: ', '23,', 'Custo medio de treino = ', '0.153')\n",
      "('Acc test = ', '0.951')\n",
      "('Epoch: ', '24,', 'Custo medio de treino = ', '0.149')\n",
      "('Acc test = ', '0.948')\n",
      "('Epoch: ', '25,', 'Custo medio de treino = ', '0.143')\n",
      "('Acc test = ', '0.950')\n",
      "('Epoch: ', '26,', 'Custo medio de treino = ', '0.141')\n",
      "('Acc test = ', '0.950')\n",
      "('Epoch: ', '27,', 'Custo medio de treino = ', '0.141')\n",
      "('Acc test = ', '0.951')\n",
      "('Epoch: ', '28,', 'Custo medio de treino = ', '0.139')\n",
      "('Acc test = ', '0.951')\n",
      "('Epoch: ', '29,', 'Custo medio de treino = ', '0.132')\n",
      "('Acc test = ', '0.953')\n",
      "('Epoch: ', '30,', 'Custo medio de treino = ', '0.132')\n",
      "('Acc test = ', '0.953')\n",
      "('Epoch: ', '31,', 'Custo medio de treino = ', '0.129')\n",
      "('Acc test = ', '0.952')\n",
      "('Epoch: ', '32,', 'Custo medio de treino = ', '0.128')\n",
      "('Acc test = ', '0.954')\n",
      "('Epoch: ', '33,', 'Custo medio de treino = ', '0.125')\n",
      "('Acc test = ', '0.954')\n",
      "('Epoch: ', '34,', 'Custo medio de treino = ', '0.123')\n",
      "('Acc test = ', '0.955')\n",
      "('Epoch: ', '35,', 'Custo medio de treino = ', '0.121')\n",
      "('Acc test = ', '0.955')\n",
      "('Epoch: ', '36,', 'Custo medio de treino = ', '0.120')\n",
      "('Acc test = ', '0.955')\n",
      "('Epoch: ', '37,', 'Custo medio de treino = ', '0.118')\n",
      "('Acc test = ', '0.953')\n",
      "('Epoch: ', '38,', 'Custo medio de treino = ', '0.117')\n",
      "('Acc test = ', '0.956')\n",
      "('Epoch: ', '39,', 'Custo medio de treino = ', '0.114')\n",
      "('Acc test = ', '0.955')\n",
      "('Epoch: ', '40,', 'Custo medio de treino = ', '0.115')\n",
      "('Acc test = ', '0.956')\n",
      "Treinamento concluído!\n",
      "('Acur\\xc3\\xa1cia do Modelo:', 0.9556)\n"
     ]
    }
   ],
   "source": [
    "#iniciando as variáveis\n",
    "init = tf.global_variables_initializer()\n",
    "\n",
    "#abrindo a sessão\n",
    "with tf.Session() as sess:\n",
    "    sess.run(init)\n",
    "    #cliclo de treinamento - epochs\n",
    "    for epoch in range(epochs):\n",
    "        custo_medio = 0.0\n",
    "        total_batches = int(mnist.train.num_examples / batch_size)\n",
    "        \n",
    "        #loop para os batchs\n",
    "        for i in range(total_batches):\n",
    "            batch_x, batch_y = mnist.train.next_batch(batch_size)\n",
    "            \n",
    "            #fit training usando batch data\n",
    "            sess.run(otimizador, feed_dict={x: batch_x, y: batch_y})\n",
    "            \n",
    "            #computanbdo o custo médio de uma epoch completa: Soma tudo e divide pela quantidade de batchs\n",
    "            custo_medio += sess.run(custo, feed_dict={x: batch_x, y: batch_y}) / total_batches\n",
    "            \n",
    "        #calculando a acurácia em cada época\n",
    "        acuracia_teste = sess.run(acuracia, feed_dict={x:mnist.test.images, y:mnist.test.labels})\n",
    "        \n",
    "        #mostrando resultados após cada época\n",
    "        print(\"Epoch: \", \"{},\".format((epoch + 1)), \"Custo medio de treino = \", \"{:.3f}\". format(custo_medio))\n",
    "        print(\"Acc test = \", \"{:.3f}\".format(acuracia_teste))\n",
    "    print (\"Treinamento concluído!\")\n",
    "    print(\"Acurácia do Modelo:\", acuracia.eval({x: mnist.test.images, y: mnist.test.labels}))\n",
    "            "
   ]
  },
  {
   "cell_type": "code",
   "execution_count": null,
   "metadata": {},
   "outputs": [],
   "source": []
  }
 ],
 "metadata": {
  "kernelspec": {
   "display_name": "Python 2",
   "language": "python",
   "name": "python2"
  },
  "language_info": {
   "codemirror_mode": {
    "name": "ipython",
    "version": 2
   },
   "file_extension": ".py",
   "mimetype": "text/x-python",
   "name": "python",
   "nbconvert_exporter": "python",
   "pygments_lexer": "ipython2",
   "version": "2.7.16"
  }
 },
 "nbformat": 4,
 "nbformat_minor": 2
}
